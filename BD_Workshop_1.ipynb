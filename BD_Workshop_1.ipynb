{
  "nbformat": 4,
  "nbformat_minor": 0,
  "metadata": {
    "colab": {
      "provenance": []
    },
    "kernelspec": {
      "name": "python3",
      "display_name": "Python 3"
    },
    "language_info": {
      "name": "python"
    }
  },
  "cells": [
    {
      "cell_type": "markdown",
      "source": [
        "#Python Fundamentals"
      ],
      "metadata": {
        "id": "X73iaDi7kU8b"
      }
    },
    {
      "cell_type": "markdown",
      "source": [
        "####Exercise on Loops"
      ],
      "metadata": {
        "id": "Dy9fBg_dkdDa"
      }
    },
    {
      "cell_type": "code",
      "execution_count": null,
      "metadata": {
        "colab": {
          "base_uri": "https://localhost:8080/"
        },
        "id": "mm9imz32ZIOm",
        "outputId": "d42456cc-7e6b-4b55-cadc-f97273fc4753"
      },
      "outputs": [
        {
          "output_type": "stream",
          "name": "stdout",
          "text": [
            "Enter the number of nth terms:7\n",
            "Fibonacci Series: 0 1 1 2 3 5 8 "
          ]
        }
      ],
      "source": [
        "n_terms = int(input(\"Enter the number of nth terms:\"))\n",
        "a, b = 0, 1\n",
        "print(\"Fibonacci Series:\", end=\" \")\n",
        "for i in range(n_terms):\n",
        "    print(a, end=\" \")\n",
        "    a, b = b, a + b # main equation"
      ]
    },
    {
      "cell_type": "code",
      "source": [
        "num = int(input(\"Enter a number: \"))\n",
        "factorial = 1\n",
        "for i in range(1, num + 1):\n",
        "    factorial *= i\n",
        "print(f\"Factorial of {num} is {factorial}\")"
      ],
      "metadata": {
        "colab": {
          "base_uri": "https://localhost:8080/"
        },
        "id": "iUEbkTwDoTBq",
        "outputId": "97ecc1e1-bb5a-41d4-a5e3-ea06dcaece91"
      },
      "execution_count": null,
      "outputs": [
        {
          "output_type": "stream",
          "name": "stdout",
          "text": [
            "Enter a number: 7\n",
            "Factorial of 7 is 5040\n"
          ]
        }
      ]
    },
    {
      "cell_type": "code",
      "source": [
        "rows = 5\n",
        "for i in range(1, rows + 1):\n",
        "    print(\"*\" * i)"
      ],
      "metadata": {
        "colab": {
          "base_uri": "https://localhost:8080/"
        },
        "id": "2yVF6cBioVSa",
        "outputId": "36a6983f-a902-433d-dfce-d2fb1a360d09"
      },
      "execution_count": null,
      "outputs": [
        {
          "output_type": "stream",
          "name": "stdout",
          "text": [
            "*\n",
            "**\n",
            "***\n",
            "****\n",
            "*****\n"
          ]
        }
      ]
    },
    {
      "cell_type": "markdown",
      "source": [
        "####Exercise on Functions"
      ],
      "metadata": {
        "id": "7gFHbv2HmS15"
      }
    },
    {
      "cell_type": "code",
      "source": [
        "def add(a, b):\n",
        "    return a + b\n",
        "\n",
        "def subtract(a, b):\n",
        "    return a - b\n",
        "\n",
        "def multiply(a, b):\n",
        "    return a * b\n",
        "\n",
        "def divide(a, b):\n",
        "    return a / b if b != 0 else \"Cannot divide by zero\"\n",
        "\n",
        "num1 = float(input(\"Enter first number: \"))\n",
        "num2 = float(input(\"Enter second number: \"))\n",
        "\n",
        "print(f\"Addition: {add(num1, num2)}\")\n",
        "print(f\"Subtraction: {subtract(num1, num2)}\")\n",
        "print(f\"Multiplication: {multiply(num1, num2)}\")\n",
        "print(f\"Division: {divide(num1, num2)}\")\n"
      ],
      "metadata": {
        "colab": {
          "base_uri": "https://localhost:8080/"
        },
        "id": "hZP5t76pmVTp",
        "outputId": "f5080472-9e88-4aed-e533-b2c92ac42c2a"
      },
      "execution_count": null,
      "outputs": [
        {
          "output_type": "stream",
          "name": "stdout",
          "text": [
            "Enter first number: 7\n",
            "Enter second number: 9\n",
            "Addition: 16.0\n",
            "Subtraction: -2.0\n",
            "Multiplication: 63.0\n",
            "Division: 0.7777777777777778\n"
          ]
        }
      ]
    },
    {
      "cell_type": "markdown",
      "source": [
        "####Exercise on List and Dictionaries"
      ],
      "metadata": {
        "id": "s_RVH38dmZ5B"
      }
    },
    {
      "cell_type": "code",
      "source": [
        "def remove_first_duplicate(lst):\n",
        "    seen = set()\n",
        "    for i, val in enumerate(lst):\n",
        "        if val in seen:\n",
        "            return lst[:i] + lst[i+1:]\n",
        "        seen.add(val)\n",
        "    return lst\n",
        "my_list = [1, 2, 3, 4, 2, 5]\n",
        "print(remove_first_duplicate(my_list))"
      ],
      "metadata": {
        "colab": {
          "base_uri": "https://localhost:8080/"
        },
        "id": "Ko3b4sEImbEp",
        "outputId": "6ea75859-e3f3-42a1-c33c-32f57c255d6d"
      },
      "execution_count": null,
      "outputs": [
        {
          "output_type": "stream",
          "name": "stdout",
          "text": [
            "[1, 2, 3, 4, 5]\n"
          ]
        }
      ]
    },
    {
      "cell_type": "code",
      "source": [
        "sample_dict = { \"name\": \"Anderson\", \"age\": 35, \"salary\": 5000, \"city\": \"London\"}\n",
        "keys = [\"name\", \"salary\"]\n",
        "\n",
        "new_dict = {key: sample_dict[key] for key in keys}\n",
        "print(new_dict)"
      ],
      "metadata": {
        "colab": {
          "base_uri": "https://localhost:8080/"
        },
        "id": "VYoA6QT0ohpJ",
        "outputId": "6b7e6213-b9bb-4c75-f740-964190557e19"
      },
      "execution_count": null,
      "outputs": [
        {
          "output_type": "stream",
          "name": "stdout",
          "text": [
            "{'name': 'Anderson', 'salary': 5000}\n"
          ]
        }
      ]
    },
    {
      "cell_type": "code",
      "source": [
        "list_one = ['one', 'two', 'three']\n",
        "list_two = [1, 2, 3]\n",
        "\n",
        "result_dict = dict(zip(list_one, list_two))\n",
        "print(result_dict)"
      ],
      "metadata": {
        "colab": {
          "base_uri": "https://localhost:8080/"
        },
        "id": "PM7LzRW2okQi",
        "outputId": "ab766223-33de-430a-f8fd-1063782e776a"
      },
      "execution_count": null,
      "outputs": [
        {
          "output_type": "stream",
          "name": "stdout",
          "text": [
            "{'one': 1, 'two': 2, 'three': 3}\n"
          ]
        }
      ]
    }
  ]
}