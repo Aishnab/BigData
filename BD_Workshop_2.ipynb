{
 "cells": [
  {
   "cell_type": "code",
   "execution_count": 48,
   "id": "d871f55c-a8a1-4873-8f2f-8a6acb15a04a",
   "metadata": {},
   "outputs": [
    {
     "name": "stdout",
     "output_type": "stream",
     "text": [
      "4.11.3\n"
     ]
    }
   ],
   "source": [
    "import pymongo\n",
    "from pprint import pprint\n",
    "from bson.objectid import ObjectId\n",
    "import string\n",
    "import operator\n",
    "import re\n",
    "# Print out the version of pymongo\n",
    "print (pymongo.version)"
   ]
  },
  {
   "cell_type": "code",
   "execution_count": 49,
   "id": "daee051b-7b29-47b6-8296-62e85ae55dd9",
   "metadata": {},
   "outputs": [
    {
     "name": "stdout",
     "output_type": "stream",
     "text": [
      "MongoClient(host=['localhost:27017'], document_class=dict, tz_aware=False, connect=True)\n"
     ]
    }
   ],
   "source": [
    "UniId = \"2331554\"\n",
    "url = \"mongodb://localhost:27017\" # Your copied connection string here\n",
    "myDatabase = \"db_\" + UniId\n",
    "myclient = pymongo.MongoClient(url)\n",
    "print(myclient)"
   ]
  },
  {
   "cell_type": "code",
   "execution_count": 50,
   "id": "2b5bd0d7-1664-421d-8439-df9dddbefd9e",
   "metadata": {},
   "outputs": [
    {
     "name": "stdout",
     "output_type": "stream",
     "text": [
      "Database(MongoClient(host=['localhost:27017'], document_class=dict, tz_aware=False, connect=True), 'db_2331554')\n"
     ]
    }
   ],
   "source": [
    "# connect to your database\n",
    "mydb = myclient[myDatabase]\n",
    "print(mydb)"
   ]
  },
  {
   "cell_type": "code",
   "execution_count": 51,
   "id": "3fe9ba50-4fa3-407c-ad8b-c005daccce5c",
   "metadata": {},
   "outputs": [
    {
     "data": {
      "text/plain": [
       "{'ok': 1.0}"
      ]
     },
     "execution_count": 51,
     "metadata": {},
     "output_type": "execute_result"
    }
   ],
   "source": [
    "myclient.admin.command('ping')"
   ]
  },
  {
   "cell_type": "code",
   "execution_count": 52,
   "id": "ba3344f2-f3bf-4a3d-8e50-362295beb4a0",
   "metadata": {},
   "outputs": [
    {
     "data": {
      "text/plain": [
       "['orders', 'weather']"
      ]
     },
     "execution_count": 52,
     "metadata": {},
     "output_type": "execute_result"
    }
   ],
   "source": [
    "# To find what collections you have\n",
    "mydb.list_collection_names()"
   ]
  },
  {
   "cell_type": "code",
   "execution_count": 53,
   "id": "79bf88ff-c22a-4c19-9668-877a4236cdf6",
   "metadata": {},
   "outputs": [],
   "source": [
    "# Set a variable called 'wcol' to the weather collection\n",
    "# this can be used without referencing the database name\n",
    "wcol = mydb[\"weather\"]"
   ]
  },
  {
   "cell_type": "code",
   "execution_count": 54,
   "id": "efebf8a3-58d2-4edb-b196-dab4f065bf15",
   "metadata": {},
   "outputs": [
    {
     "name": "stdout",
     "output_type": "stream",
     "text": [
      "250\n"
     ]
    }
   ],
   "source": [
    "# db.weather.count()\n",
    "# Syntax difference: count() is depreciated so have to use a Collection's␣\n",
    "#count_document function instead:\n",
    "print(wcol.count_documents({}))"
   ]
  },
  {
   "cell_type": "code",
   "execution_count": 55,
   "id": "ec5d2811-5cfb-4af7-9fbe-d787160337f7",
   "metadata": {},
   "outputs": [
    {
     "name": "stdout",
     "output_type": "stream",
     "text": [
      "{'_id': ObjectId('67e3768d403e94bf2ce093d9'), 'contributors': None, 'truncated': False, 'text': '@owz09 @DerekTheWeather @bbcweather @BBCWalesToday @BBCRadioWales 😁', 'is_quote_status': False, 'in_reply_to_status_id': 1224417439968112647, 'id': 1224420592067272704, 'favorite_count': 1, 'entities': {'symbols': [], 'user_mentions': [{'id': 394271926, 'indices': [0, 6], 'id_str': '394271926', 'screen_name': 'owz09', 'name': 'owen williams'}, {'id': 309929507, 'indices': [7, 23], 'id_str': '309929507', 'screen_name': 'DerekTheWeather', 'name': 'ᴅᴇʀᴇᴋ ʙʀᴏᴄᴋᴡᴀʏ ᴡᴇᴀᴛʜᴇʀᴍᴀɴ'}, {'id': 142614009, 'indices': [24, 35], 'id_str': '142614009', 'screen_name': 'bbcweather', 'name': 'BBC Weather'}, {'id': 309601044, 'indices': [36, 50], 'id_str': '309601044', 'screen_name': 'BBCWalesToday', 'name': 'BBC Wales Today'}, {'id': 145251660, 'indices': [51, 65], 'id_str': '145251660', 'screen_name': 'BBCRadioWales', 'name': 'BBC Radio Wales'}], 'hashtags': [], 'urls': []}, 'retweeted': False, 'coordinates': None, 'source': '<a href=\"http://twitter.com/download/android\" rel=\"nofollow\">Twitter for Android</a>', 'in_reply_to_screen_name': 'owz09', 'in_reply_to_user_id': 394271926, 'retweet_count': 0, 'id_str': '1224420592067272704', 'favorited': False, 'user': {'follow_request_sent': False, 'has_extended_profile': True, 'profile_use_background_image': True, 'default_profile_image': False, 'id': 116506847, 'profile_background_image_url_https': 'https://abs.twimg.com/images/themes/theme1/bg.png', 'verified': False, 'translator_type': 'none', 'profile_text_color': '333333', 'profile_image_url_https': 'https://pbs.twimg.com/profile_images/1112423467700404224/IEL47jAD_normal.jpg', 'profile_sidebar_fill_color': 'DDEEF6', 'entities': {'description': {'urls': []}}, 'followers_count': 295, 'profile_sidebar_border_color': 'C0DEED', 'id_str': '116506847', 'profile_background_color': 'C0DEED', 'listed_count': 4, 'is_translation_enabled': False, 'utc_offset': None, 'statuses_count': 5196, 'description': 'Rugby........ played by Men with odd shaped Balls.\\nThings happen for a reason. 🙇🏼\\u200d♂️', 'friends_count': 833, 'location': 'Wales', 'profile_link_color': '0084B4', 'profile_image_url': 'http://pbs.twimg.com/profile_images/1112423467700404224/IEL47jAD_normal.jpg', 'following': False, 'geo_enabled': True, 'profile_banner_url': 'https://pbs.twimg.com/profile_banners/116506847/1537390548', 'profile_background_image_url': 'http://abs.twimg.com/images/themes/theme1/bg.png', 'screen_name': 'WAWilliams15', 'lang': None, 'profile_background_tile': True, 'favourites_count': 3210, 'name': 'Wayne Williams', 'notifications': False, 'url': None, 'created_at': 'Mon Feb 22 18:14:56 +0000 2010', 'contributors_enabled': False, 'time_zone': None, 'protected': False, 'default_profile': False, 'is_translator': False}, 'geo': None, 'in_reply_to_user_id_str': '394271926', 'lang': 'und', 'created_at': 'Mon Feb 03 19:53:12 +0000 2020', 'in_reply_to_status_id_str': '1224417439968112647', 'place': None, 'metadata': {'iso_language_code': 'und', 'result_type': 'recent'}}\n"
     ]
    }
   ],
   "source": [
    "# db.weather.findOne()\n",
    "# findOne() is called find_one() in python\n",
    "wtweets = wcol.find_one()\n",
    "print(wtweets)"
   ]
  },
  {
   "cell_type": "code",
   "execution_count": 56,
   "id": "8fecb8e4-6cd6-4e4e-bd65-76bed4c3e475",
   "metadata": {},
   "outputs": [
    {
     "name": "stdout",
     "output_type": "stream",
     "text": [
      "{'_id': ObjectId('67e3768d403e94bf2ce093d9'),\n",
      " 'contributors': None,\n",
      " 'coordinates': None,\n",
      " 'created_at': 'Mon Feb 03 19:53:12 +0000 2020',\n",
      " 'entities': {'hashtags': [],\n",
      "              'symbols': [],\n",
      "              'urls': [],\n",
      "              'user_mentions': [{'id': 394271926,\n",
      "                                 'id_str': '394271926',\n",
      "                                 'indices': [0, 6],\n",
      "                                 'name': 'owen williams',\n",
      "                                 'screen_name': 'owz09'},\n",
      "                                {'id': 309929507,\n",
      "                                 'id_str': '309929507',\n",
      "                                 'indices': [7, 23],\n",
      "                                 'name': 'ᴅᴇʀᴇᴋ ʙʀᴏᴄᴋᴡᴀʏ ᴡᴇᴀᴛʜᴇʀᴍᴀɴ',\n",
      "                                 'screen_name': 'DerekTheWeather'},\n",
      "                                {'id': 142614009,\n",
      "                                 'id_str': '142614009',\n",
      "                                 'indices': [24, 35],\n",
      "                                 'name': 'BBC Weather',\n",
      "                                 'screen_name': 'bbcweather'},\n",
      "                                {'id': 309601044,\n",
      "                                 'id_str': '309601044',\n",
      "                                 'indices': [36, 50],\n",
      "                                 'name': 'BBC Wales Today',\n",
      "                                 'screen_name': 'BBCWalesToday'},\n",
      "                                {'id': 145251660,\n",
      "                                 'id_str': '145251660',\n",
      "                                 'indices': [51, 65],\n",
      "                                 'name': 'BBC Radio Wales',\n",
      "                                 'screen_name': 'BBCRadioWales'}]},\n",
      " 'favorite_count': 1,\n",
      " 'favorited': False,\n",
      " 'geo': None,\n",
      " 'id': 1224420592067272704,\n",
      " 'id_str': '1224420592067272704',\n",
      " 'in_reply_to_screen_name': 'owz09',\n",
      " 'in_reply_to_status_id': 1224417439968112647,\n",
      " 'in_reply_to_status_id_str': '1224417439968112647',\n",
      " 'in_reply_to_user_id': 394271926,\n",
      " 'in_reply_to_user_id_str': '394271926',\n",
      " 'is_quote_status': False,\n",
      " 'lang': 'und',\n",
      " 'metadata': {'iso_language_code': 'und', 'result_type': 'recent'},\n",
      " 'place': None,\n",
      " 'retweet_count': 0,\n",
      " 'retweeted': False,\n",
      " 'source': '<a href=\"http://twitter.com/download/android\" '\n",
      "           'rel=\"nofollow\">Twitter for Android</a>',\n",
      " 'text': '@owz09 @DerekTheWeather @bbcweather @BBCWalesToday @BBCRadioWales 😁',\n",
      " 'truncated': False,\n",
      " 'user': {'contributors_enabled': False,\n",
      "          'created_at': 'Mon Feb 22 18:14:56 +0000 2010',\n",
      "          'default_profile': False,\n",
      "          'default_profile_image': False,\n",
      "          'description': 'Rugby........ played by Men with odd shaped Balls.\\n'\n",
      "                         'Things happen for a reason. 🙇🏼\\u200d♂️',\n",
      "          'entities': {'description': {'urls': []}},\n",
      "          'favourites_count': 3210,\n",
      "          'follow_request_sent': False,\n",
      "          'followers_count': 295,\n",
      "          'following': False,\n",
      "          'friends_count': 833,\n",
      "          'geo_enabled': True,\n",
      "          'has_extended_profile': True,\n",
      "          'id': 116506847,\n",
      "          'id_str': '116506847',\n",
      "          'is_translation_enabled': False,\n",
      "          'is_translator': False,\n",
      "          'lang': None,\n",
      "          'listed_count': 4,\n",
      "          'location': 'Wales',\n",
      "          'name': 'Wayne Williams',\n",
      "          'notifications': False,\n",
      "          'profile_background_color': 'C0DEED',\n",
      "          'profile_background_image_url': 'http://abs.twimg.com/images/themes/theme1/bg.png',\n",
      "          'profile_background_image_url_https': 'https://abs.twimg.com/images/themes/theme1/bg.png',\n",
      "          'profile_background_tile': True,\n",
      "          'profile_banner_url': 'https://pbs.twimg.com/profile_banners/116506847/1537390548',\n",
      "          'profile_image_url': 'http://pbs.twimg.com/profile_images/1112423467700404224/IEL47jAD_normal.jpg',\n",
      "          'profile_image_url_https': 'https://pbs.twimg.com/profile_images/1112423467700404224/IEL47jAD_normal.jpg',\n",
      "          'profile_link_color': '0084B4',\n",
      "          'profile_sidebar_border_color': 'C0DEED',\n",
      "          'profile_sidebar_fill_color': 'DDEEF6',\n",
      "          'profile_text_color': '333333',\n",
      "          'profile_use_background_image': True,\n",
      "          'protected': False,\n",
      "          'screen_name': 'WAWilliams15',\n",
      "          'statuses_count': 5196,\n",
      "          'time_zone': None,\n",
      "          'translator_type': 'none',\n",
      "          'url': None,\n",
      "          'utc_offset': None,\n",
      "          'verified': False}}\n"
     ]
    }
   ],
   "source": [
    "# Syntax difference: pretty() is not a function in Python.\n",
    "# Use pprint instead\n",
    "pprint(wtweets)"
   ]
  },
  {
   "cell_type": "code",
   "execution_count": 57,
   "id": "c8c7d481-5e02-4757-9941-a23183d496cf",
   "metadata": {},
   "outputs": [
    {
     "data": {
      "text/plain": [
       "['en', 'es', 'und']"
      ]
     },
     "execution_count": 57,
     "metadata": {},
     "output_type": "execute_result"
    }
   ],
   "source": [
    "# Show distinct languages\n",
    "# db.weather.distinct(\"lang\")\n",
    "wcol.distinct(\"lang\")"
   ]
  },
  {
   "cell_type": "code",
   "execution_count": 58,
   "id": "1cc86477-72ca-49d3-bc43-f7bf5e734911",
   "metadata": {},
   "outputs": [
    {
     "data": {
      "text/plain": [
       "['#sunset over #m6n #rushhour @bbcmtd @bbcweather Birmingham https://t.co/xfmiSqR0u3',\n",
       " '.@bbcweather *Again* 1430  GMT @bbcworld news weather summary: presenter standing in front of satellite video for P… https://t.co/oXmRIxigH2',\n",
       " '@1PaulMichael @VisitScotland @bbcweather @BBCScotland I must say it took me over a minute to register that it’s Ben… https://t.co/Z18sbi9nLZ',\n",
       " '@1PaulMichael @VisitScotland @bbcweather @BBCScotland Indeed my friend , was by chance driving by and couldn’t resist',\n",
       " '@AbhaPaulina @VisitScotland @bbcweather @BBCScotland At this time of year the Ben would often be capped in snow. Beautiful sight.',\n",
       " '@AbhaPaulina @VisitScotland @bbcweather @BBCScotland Gorgeous scenes on Saturday 😍',\n",
       " \"@Alex_Mulcrow93 @bbcweather Our flowers and trees have started too. Blossom already. It's not normal\",\n",
       " '@AndiOram4 @MickeyJPrior @bbcweather Two decent articles on the MetO site...\\n\\nhttps://t.co/UX1nYOzn3p\\n\\n^ explains t… https://t.co/0zj1110yJo',\n",
       " '@AnjanaGadgil @Kate_Kinsella @BrownieLB_1 @SallyTaylor_tv @BBCWeather @BBCSWWeather @karenjane16ka @KeeleyDonovan… https://t.co/AD6We1sEct',\n",
       " '@BBCBreakfast @bbcweather ‘in the north of the country’ - repeat after me UK / Britain is not a country - UK / Brit… https://t.co/51KeFQLgkm',\n",
       " '@BBCWthrWatchers @bbcweather @carolkirkwood @Hudsonweather @Abbiedew @KeeleyDonovan @katerinaweather @lottyleeming… https://t.co/I5bZjX7Dh8',\n",
       " \"@Dave91632231 @bbcweather It's winter. It's supposed to be cold. There are meant to be frosts. The absence of them… https://t.co/G1Jlpf5kr1\",\n",
       " '@DerekTheWeather @bbcweather @BBCWalesToday @BBCRadioWales Maybe get a chance to put the winter tyres to test....at last ☃️🤔😂',\n",
       " '@DerekTheWeather @bbcweather @BBCWalesToday @BBCRadioWales Oh dear! No sign of a cold snap then ? ❄️☃️',\n",
       " '@DerekTheWeather @bbcweather @BBCWalesToday @BBCRadioWales Ooohhj ! Severe wind 😮',\n",
       " '@DerekTheWeather @bbcweather @BBCWalesToday @BBCRadioWales Those iso bars are quite close 😱',\n",
       " '@GeordieCanary @StormHour @ChrisPage90 @WeatherAisling @BBCWthrWatchers @bbcweather @LensAreLive Oh yes 😎 https://t.co/QA6TsrZKzQ',\n",
       " '@JeanneHoffa @theroyalparks @WildLondon @WWTLondon @StormHour @photohour @bbcweather @SimonOKing @SallyWeather @itvweather Thank you Jeanne',\n",
       " \"@JudePri14876016 @bbcweather You'll either drown or starve to death if we get to that point.\",\n",
       " '@Lillybetmax @VisitCairngrms @VisitScotland @ScotsMagazine @BBCSpringwatch @uknationalparks @bbcweather @metoffice… https://t.co/NcYieNDbRs',\n",
       " \"@Menkvi @bbcweather This isn't climate change just a plume of hot air which has been drawing hot air up for about a… https://t.co/lpwHdFe6Tw\",\n",
       " '@MickeyJPrior @bbcweather Air frost occurs when the air temp at 2 metres reaches -0°C. A ground frost can occur wit… https://t.co/JvVoEUQla3',\n",
       " '@MickeyJPrior @bbcweather Well the ground temperature is recorded just above the ground I believe just above the su… https://t.co/n1M2ase24m',\n",
       " '@Official_WXUK @MickeyJPrior @bbcweather Is there anything good I can read up about frosts and forecasting them.',\n",
       " '@Official_WXUK @bbcweather The air temperature at ground level must be 0° to cause the ice crystals on the surface to form?',\n",
       " '@Omi_233 @bbcweather What BBC propaganda?',\n",
       " '@SGIRE82 @VisitCairngrms @VisitScotland @ScotsMagazine @BBCSpringwatch @uknationalparks @bbcweather @metoffice @BBCEarth @BBCOutofDoors 🙏😊👍',\n",
       " '@Silligilli @porridgebrain @cairnstoon @bbcweather',\n",
       " '@StevePayne2018 @bbcweather Ah! Global warming? Not ideal, but the line of business I’m in I don’t like the cold wi… https://t.co/loXcBsUdEM',\n",
       " '@StevePayne2018 @bbcweather Why? I thought it would be good? Thanks in advance for an explanation! 👍🏼',\n",
       " '@TravelwithPOwer @ThePhotoHour @metoffice @bbcweather @SallyWeather @itvweather @SimonOKing @StormHour Thank you',\n",
       " '@WAWilliams15 @DerekTheWeather @bbcweather @BBCWalesToday @BBCRadioWales ISO bars? Are they protein bars, they sound nice 😋 😉',\n",
       " '@YorkshireBird_ @porridgebrain @LevParikian @bbcweather',\n",
       " '@alannah213 @barrabest @WeatherCee @BBCNewsNI @BBCTravelShow @DiscoverNI @bbcweather Great sky ...',\n",
       " '@bbcpointswest @bbcweather Portishead Marina https://t.co/5VDnw5Jf8x',\n",
       " '@bbcweather 27 degrees across Northwest Italy too.',\n",
       " '@bbcweather @BBCScotWeather We have some fairly brisk air in Kirkwall today anyway - not much chance of frost I suspect 🤣',\n",
       " '@bbcweather @BBCWthrWatchers @BBCLookEast',\n",
       " '@bbcweather Beautiful day to be had by everyone there then!',\n",
       " '@bbcweather Blimey!!!! 🥶🥶🥶 https://t.co/zG2gaYZeO2',\n",
       " '@bbcweather Camborne in Cornwall as well I believe 👍',\n",
       " '@bbcweather Crazy. Please tell me that we will get some colder weather in kent? Every day is in double figures and… https://t.co/TkmYJ9joV9',\n",
       " \"@bbcweather Good let's make 25c the average\",\n",
       " '@bbcweather Hope not, we need to fight back against this.',\n",
       " '@bbcweather Hope the trend stays for the weekend..',\n",
       " '@bbcweather Incredible',\n",
       " '@bbcweather Nothing new here, more climate propaganda and hysteria from the BBC. The license fee really must go and… https://t.co/gdIroLIRwx',\n",
       " '@bbcweather Perhaps dry hot summers could become the norm in Scotland',\n",
       " '@bbcweather Southerly wind ya NERDS, its NOT climate change ffs',\n",
       " '@bbcweather The ocean always helps lol.',\n",
       " \"@bbcweather This isn't good news 🙁\",\n",
       " \"@bbcweather We're more likely to see wetter summers in Scotland due to the jet stream not moving as far north as it… https://t.co/jQZP5ghcl3\",\n",
       " \"@bbcweather What's the difference between air and ground frost?\",\n",
       " \"@bbcweather Where are the 'I saw snow in winter so climate change isn't real' people\",\n",
       " '@bbcweather Yeah right...I call bullshit!!',\n",
       " '@bbcweather Yep, with #WeatherModification....',\n",
       " '@bbcweather has done me dirty today, light showers? What a load of crap',\n",
       " '@bbcweather https://t.co/7fIC2ysZCD',\n",
       " '@bbcweather https://t.co/QGpJ97PHQQ',\n",
       " '@bbcweather 😱',\n",
       " '@every_station @ScotRail @AlexHynes @bbcweather Great photo.',\n",
       " '@every_station @ScotRail @AlexHynes @bbcweather I saw that train at Carsile about 30 minutes ago, I’m on an avanti… https://t.co/IJsjzTb25C',\n",
       " '@every_station @ScotRail @AlexHynes @bbcweather I was there the other day 😊',\n",
       " '@festinagirl yep https://t.co/4s3yS1iPiS and as models predicted as we warm up we get more extremes, all the warmes… https://t.co/eXVbfB3Nlr',\n",
       " '@frasergj @StirUni @BBCScotWeather @BBCAimsir @bbcweather @metoffice @BBCWthrWatchers @BBCCountryfile @BBCEarth… https://t.co/G10xHKL07y',\n",
       " '@goldfinches12 @metoffice @bbcweather @SallyWeather @itvweather @SimonOKing @StormHour @ThePhotoHour Thank you Mart… https://t.co/fDMppTyn9L',\n",
       " '@highland_andy @VisitCairngrms @VisitScotland @ScotsMagazine @BBCSpringwatch @uknationalparks @bbcweather… https://t.co/OAc67eH24Q',\n",
       " '@highland_andy @VisitCairngrms @VisitScotland @ScotsMagazine @BBCSpringwatch @uknationalparks @bbcweather… https://t.co/rblo0HfOC5',\n",
       " '@hugysmum @metoffice @bbcweather @SallyWeather @itvweather @SimonOKing @StormHour @ThePhotoHour It’s a bird! Thank… https://t.co/FTkAGboel2',\n",
       " '@hugysmum @metoffice @bbcweather @SallyWeather @itvweather @SimonOKing @StormHour @ThePhotoHour 🦅',\n",
       " '@lana_preston @StirUni @BBCScotWeather @BBCAimsir @bbcweather @metoffice @BBCWthrWatchers @BBCCountryfile @BBCEarth… https://t.co/48dWvHyDcT',\n",
       " '@owz09 @DerekTheWeather @bbcweather @BBCWalesToday @BBCRadioWales 😁',\n",
       " '@ruths_gallery @ThePhotoHour @metoffice @bbcweather @SallyWeather @itvweather @SimonOKing @StormHour Cool! 👍',\n",
       " '@ruths_gallery @metoffice @bbcweather @SallyWeather @itvweather @SimonOKing @StormHour @ThePhotoHour Is it a bird..… https://t.co/vUJmMWVVYn',\n",
       " \"@ruths_gallery @metoffice @bbcweather @SallyWeather @itvweather @SimonOKing @StormHour @ThePhotoHour That's an amaz… https://t.co/4CfjDIwF44\",\n",
       " '@ruths_gallery @metoffice @bbcweather @SallyWeather @itvweather @SimonOKing @StormHour @ThePhotoHour 😱😱😱😱',\n",
       " '@ruths_gallery @theroyalparks @WildLondon @WWTLondon @StormHour @photohour @bbcweather @SimonOKing @SallyWeather @itvweather Lovely. 😊',\n",
       " '@simon_weather @StormchaserUKEU @carlharlott @DanHolley @stormbell @Lowweather @TheSnowDreamer @iainG81 @MetRyan96… https://t.co/4q2oqgcDTC',\n",
       " '@sotcstill @OldDublinTown @LovinDublin @DublinTown @VisitDublin @dublin @deric_tv @TourismIreland @PictureIreland… https://t.co/98VF1BfGCm',\n",
       " '@themetoffice @bbcweather just built a natural stone wall on the basis it was going to be dry today (as you guys sa… https://t.co/Mbcxf2IgJX',\n",
       " '@therileyshot @BBCLookNorth @bbcweather @itvweather @LensAreLive @Liam_Ball92 @Welcome2Yorks Lovely photograph',\n",
       " 'A blustery afternoon at @NostellNT @JonMitchellITV @kerriegosneyTV @itvweather @Hudsonweather @KeeleyDonovan… https://t.co/U7EErMbDdZ',\n",
       " 'A bright, mild and windy day. Showers in the northwest, some rain developing in southern England. Winds strengthen… https://t.co/IByZz4C5te',\n",
       " 'A chilly sunset in ryhill park @JonMitchellITV @kerriegosneyTV @itvweather @metoffice @BBCWthrWatchers @bbcweather… https://t.co/3kHPFOj7W2',\n",
       " 'A powerful Jet Stream will propagate across the north Atlantic next week.\\n\\nStrong winds, gales, rain and wintry sho… https://t.co/dpuy63UoBJ',\n",
       " 'A sunny day at @StirUni this afternoon....until the wind picked up, blowing rain clouds over #Stirling (3/2)… https://t.co/nkyHmHar8d',\n",
       " 'A touch of brightness on a dull grey #MondayAfternoon at #Twickenham @metoffice  @bbcweather  @SallyWeather… https://t.co/eLXwcRbRQ4',\n",
       " 'After a sunny start around #Stirling winds blowing rain clouds across (3/2) #WeatherWatcherGraham @BBCScotWeather… https://t.co/tOtpDgqBXF',\n",
       " 'As of 1300 GMT, we have seen the following temperatures today in France and Spain:\\n\\nSeillans 26.8C\\nSantander airpor… https://t.co/feXKwJSRWT',\n",
       " 'Awesome mackerel clouds just now over #Twickenham  @metoffice  @bbcweather #MondayMorning @SallyWeather @itvweather… https://t.co/eOZy9je83R',\n",
       " 'Como que 2/3? ya porfavorrr solo quiero ver el sol https://t.co/DdwNtd84TR',\n",
       " \"Cycling through Europe's deadliest air https://t.co/1gL5BK6HMt\",\n",
       " 'Daffodils in Great Yarmouth @StormchaserUKEU @carlharlott @danholley @stormbell @Lowweather @TheSnowDreamer… https://t.co/CZsW5g6Yyt',\n",
       " 'Does anyone else think it is rather fitting that the UK national anthem contains a pessimistic #weather forecast at… https://t.co/X9x7qo7aZs',\n",
       " \"Dry, hot summers could become 'norm' in Scotland https://t.co/8xgEL0uyYV\",\n",
       " 'Early morning calm at Bushy Park #photooftheday  @theroyalparks @WildLondon @WWTLondon @StormHour @PhotoHour… https://t.co/WTwx3N1nAQ',\n",
       " 'Extraordinary temperatures being recorded today across France &amp; Spain. Again highlighting the extent &amp;widespread na… https://t.co/4zjuXQcvF5',\n",
       " 'Has spring arrived ? @ChrisPage90 @WeatherAisling @BBCWthrWatchers @bbcweather @StormHour @LensAreLive https://t.co/laSbcPcfWU',\n",
       " 'Holbeach Hurn #Lincolnshire\\n@LincsSkies\\n \\n@EarthandClouds2 @StormHour @cloudymamma @BBCWthrWatchers @bbcweather… https://t.co/jgwD4okuNB',\n",
       " 'Holbeach Hurn #Lincolnshire\\nStraight out of the camera. #sooc\\n@LincsSkies\\n \\n@EarthandClouds2 @StormHour… https://t.co/jY5pgftA9R',\n",
       " 'I warned this would happen. @metoffice uses extremely high sensitivity HadGEM3-GA6 model, combined with recently de… https://t.co/kHK47JCiPY',\n",
       " 'It looks as if that jackdaw is making a contrail 😳🤣 Sunny spells are forecast for #Twickenham before a cloudy after… https://t.co/YrwBR88OX5',\n",
       " 'It was 9c and pouring when we were in Santander in June......ho hum https://t.co/9elLeHAq0u',\n",
       " 'Kirkwall bay, oh bonny Kirkwall bay... looking a bit lively tonight... https://t.co/Cqk6D2OOkT https://t.co/LM4nMCgQXw',\n",
       " 'Leg of Mutton Pond at Bushy Park #photooftheday  @theroyalparks @WildLondon @WWTLondon @StormHour @PhotoHour… https://t.co/pAhxZPkPRf',\n",
       " 'Milan car ban: Drivers ignore anti-pollution measure https://t.co/6BtAMWNfLP',\n",
       " 'Monday morning setting. @BBCNWT @bbcweather #Boothstown #Manchester #sunrise #sunrisephotography #colours https://t.co/M1Z6Zv5dHz',\n",
       " 'More local heat records tumbled in north on Monday\\n\\nMeanwhile, Milford Sound recorded almost 500mm (over a months w… https://t.co/Wur18q1ruY',\n",
       " 'Our partners @ultraleap pioneered this haptic technology. Could it be the future of out weather forecasts? Great ex… https://t.co/TK5EHYIsVE',\n",
       " 'Porthleven 2014 the year the inner harbour baulks were smashed apart and lots of boats sunk/damaged… https://t.co/O14qq5QACO',\n",
       " 'RT @AbhaPaulina: Beautiful 1st of February on the shores of Loch Lomond #scotland #beautifulday #PictureOfTheDay @VisitScotland @bbcweather…',\n",
       " 'RT @DerekTheWeather: A powerful Jet Stream will propagate across the north Atlantic next week.\\n\\nStrong winds, gales, rain and wintry shower…',\n",
       " 'RT @GWestCBayCC: #Greenock #Gourock #Inverclyde #Scotland #WeatherAware https://t.co/ueMAxvkj4l',\n",
       " 'RT @GeordieCanary: Has spring arrived ? @ChrisPage90 @WeatherAisling @BBCWthrWatchers @bbcweather @StormHour @LensAreLive https://t.co/laSb…',\n",
       " 'RT @Iceman26061: Lovely pink clouds from yesterday🌅☁️ #clouds #sunset #weather #photography #Northamptonshire #loveukweather @LensAreLive @…',\n",
       " 'RT @Ichabodus: Holbeach Hurn #Lincolnshire\\n@LincsSkies\\n \\n@EarthandClouds2 @StormHour @cloudymamma @BBCWthrWatchers @bbcweather @spaldingtod…',\n",
       " 'RT @Ichabodus: Holbeach Hurn #Lincolnshire\\nStraight out of the camera. #sooc\\n@LincsSkies\\n \\n@EarthandClouds2 @StormHour @cloudymamma @BBCWth…',\n",
       " 'RT @JaneDryden4: I warned this would happen. @metoffice uses extremely high sensitivity HadGEM3-GA6 model, combined with recently debunked…',\n",
       " 'RT @KimGPhoto: Stormy seas surrounding the Isle of Skye today 🌊\\n\\n@VisitScotland @bbcweather #isleofskye #Scotland #Weather #ScotlandIsNow h…',\n",
       " 'RT @MetMattTaylor: More local heat records tumbled in north on Monday\\n\\nMeanwhile, Milford Sound recorded almost 500mm (over a months worth…',\n",
       " 'RT @StiofanNutty: Extraordinary temperatures being recorded today across France &amp; Spain. Again highlighting the extent &amp;widespread nature o…',\n",
       " 'RT @absolutoursuk: #Mevagissey meanders on a #winter afternoon.#fishinglife @ILoveCornwallUK @VisitSWEngland @WhatsonSW @cornwallfilming @C…',\n",
       " 'RT @bbcweather: A bright, mild and windy day. Showers in the northwest, some rain developing in southern England. Winds strengthen with gus…',\n",
       " 'RT @bbcweather: A day of #summer extremes in New Zealand on Sunday.\\n\\nWhilst Napier, on North Island, experienced its #hottestdayonrecord at…',\n",
       " 'RT @bbcweather: AUSTRALIA: New South Wales and ACT experienced the worst of the #heatwave on Saturday\\n\\nCanberra had its hottest day on reco…',\n",
       " 'RT @bbcweather: Feeling the forecast through haptic technology. Could this be the future of BBC Weather?\\nhttps://t.co/u9w2K98EL7 https://t.…',\n",
       " 'RT @bbcweather: Gales across Scotland later tomorrow. Gusts of 60-70mph for northern &amp; western Scotland and up to 80mph for the Western Isl…',\n",
       " 'RT @bbcweather: Major motorway closed and residents in Canberra region told to seek shelter from out of control bushfires. Hot and windy co…',\n",
       " 'RT @bbcweather: We are two thirds of the way through meteorological winter and some UK locations, including Kirkwall (Orkney), Weybourne (N…',\n",
       " 'RT @chris_alpacas: A grey day at the river side in St Ives, Cambridgeshire @metoffice @ChrisPage90 @WeatherAisling @itvanglia @bbcweather @…',\n",
       " 'RT @dunbar44: A stunning Rainbow over the Giants Causeway \\n\\n@GCausewayNT @nationaltrust @NationalTrustNI @newslineweather @barrabest @Disco…',\n",
       " 'RT @every_station: The cloud formations just now at Gretna Green are amazing! 156507 on a Carlisle to Glasgow Central service. \\n\\n@ScotRail…',\n",
       " 'RT @frasergj: A sunny day at @StirUni this afternoon....until the wind picked up, blowing rain clouds over #Stirling (3/2) #WeatherWatcherG…',\n",
       " 'RT @frasergj: After a sunny start around #Stirling winds blowing rain clouds across (3/2) #WeatherWatcherGraham @BBCScotWeather @BBCAimsir…',\n",
       " 'RT @gazza_d: This is fine https://t.co/76CdECe4al',\n",
       " 'RT @highland_andy: This image has to be viewed large to be appreciated.\\nTaken at 1/80th of a second to bigger the snow a hint of blur.\\n#red…',\n",
       " 'RT @ruths_gallery: A touch of brightness on a dull grey #MondayAfternoon at #Twickenham @metoffice  @bbcweather  @SallyWeather @itvweather…',\n",
       " 'RT @ruths_gallery: Awesome mackerel clouds just now over #Twickenham  @metoffice  @bbcweather #MondayMorning @SallyWeather @itvweather @Clo…',\n",
       " 'RT @ruths_gallery: It looks as if that jackdaw is making a contrail 😳🤣 Sunny spells are forecast for #Twickenham before a cloudy afternoon…',\n",
       " 'RT @ruths_gallery: ‘I’m watching you’.  A jackdaw on our balcony on a cloudy afternoon at #Twickenham @metoffice  @bbcweather  @SallyWeathe…',\n",
       " 'RT @secrethighlands: Not seen the falls so full of water before! Amazing!!#secrethighlands \\n#SaturdayMotivation #SaturdayMorning #waterfall…',\n",
       " 'RT @simon_weather: Daffodils in Great Yarmouth @StormchaserUKEU @carlharlott @danholley @stormbell @Lowweather @TheSnowDreamer @iainG81 @Me…',\n",
       " 'RT @simon_weather: Sunrise in Great Yarmouth @StormchaserUKEU @carlharlott @danholley @stormbell @Lowweather @TheSnowDreamer @iainG81 @MetR…',\n",
       " 'RT @therileyshot: Some nice colours this morning whilst I have my morning breakfast battle with the little munchkin! Have a fab week everyo…',\n",
       " 'RT @ultraleap: We spot an @ultraleap mid-air #haptic array! 👀🌦️',\n",
       " 'RT @ultraleap: We spot an @ultraleap mid-air #haptic array! 👀🌦️ https://t.co/Nphu3hJVQa',\n",
       " 'RT ultraleap \"We spot an ultraleap mid-air #haptic array! 👀🌦️ https://t.co/ribK44J5Gj\"',\n",
       " 'Serbia (deep ties to Russia)👉 country with the highest rate of pollution-related deaths in Europe, according to the… https://t.co/esdpkPZbhY',\n",
       " 'Some nice colours this morning whilst I have my morning breakfast battle with the little munchkin! Have a fab week… https://t.co/qnCajuANja',\n",
       " 'Stormy seas surrounding the Isle of Skye today 🌊\\n\\n@VisitScotland @bbcweather #isleofskye #Scotland #Weather… https://t.co/dbsYA9rKTP',\n",
       " 'Sunrise in Great Yarmouth @StormchaserUKEU @carlharlott @danholley @stormbell @Lowweather @TheSnowDreamer @iainG81… https://t.co/RNatAcYBDn',\n",
       " 'Sunshine, rain or snow. For me all of the enjoyment of the weather comes from how it feels. ☀️ 🌧 ❄️ https://t.co/fUOgmvCdlJ',\n",
       " 'Take care on the roads in Scotland today. https://t.co/0sCqsmZysI',\n",
       " \"The BBC's haptic weather forecast machine lets you feel the weather\\n#BBCWeather #WeatherForecast @BBCNews… https://t.co/bdKLimhKjc\",\n",
       " 'The cloud formations just now at Gretna Green are amazing! 156507 on a Carlisle to Glasgow Central service.… https://t.co/MILaurBXdM',\n",
       " 'This IS not normal #10 https://t.co/vRyhmr4PbV',\n",
       " 'This image has to be viewed large to be appreciated.\\nTaken at 1/80th of a second to bigger the snow a hint of blur.… https://t.co/ltBfN1nz7c',\n",
       " 'This is fine https://t.co/76CdECe4al',\n",
       " 'We are two thirds of the way through meteorological winter and some UK locations, including Kirkwall (Orkney), Weyb… https://t.co/X7skB5rYxV',\n",
       " 'We spot an @ultraleap mid-air #haptic array! 👀🌦️ https://t.co/Nphu3hJVQa',\n",
       " 'Wicklow Harbour, Ireland\\n@visitwicklow @WicklowTownTeam  @Welcome2Wicklow @WicklowThisWeek @PictureIreland… https://t.co/oSIZvAntbG',\n",
       " 'thisisfine.jpg https://t.co/MGIQvFLKmB',\n",
       " '‘I’m watching you’.  A jackdaw on our balcony on a cloudy afternoon at #Twickenham @metoffice  @bbcweather… https://t.co/ygjqFDk1Gg']"
      ]
     },
     "execution_count": 58,
     "metadata": {},
     "output_type": "execute_result"
    }
   ],
   "source": [
    "# Show distinct texts\n",
    "#db.weather.distinct(\"text\")\n",
    "wcol.distinct(\"text\")"
   ]
  },
  {
   "cell_type": "code",
   "execution_count": 59,
   "id": "7c467181-b44a-4c2f-ba4e-ac03b7fe3853",
   "metadata": {},
   "outputs": [
    {
     "data": {
      "text/plain": [
       "['#StormHour',\n",
       " '#ThePhotoHour',\n",
       " 'Abha Paulina',\n",
       " 'Adam Withey',\n",
       " 'Adie',\n",
       " 'Al Hine',\n",
       " 'Alex Hynes',\n",
       " 'Alex Mulcrow',\n",
       " 'Andy Howard',\n",
       " 'Angee Kinniyos',\n",
       " 'Ayub Zumla',\n",
       " 'BBC Highlands',\n",
       " 'BBC Scotland News',\n",
       " 'BBC Scotland Weather',\n",
       " 'BBC Weather',\n",
       " 'Barbara Anne Lawhead',\n",
       " 'Belencius',\n",
       " 'Big Dave',\n",
       " 'Blind Harper',\n",
       " 'Blush Marnie',\n",
       " 'Bob Sharples',\n",
       " 'Bristol Digital Futures Institute',\n",
       " 'Callum⚽️',\n",
       " 'Cameron Lodges',\n",
       " 'Carole Esq.’ess ✝️🇬🇧🏴\\U000e0067\\U000e0062\\U000e0065\\U000e006e\\U000e0067\\U000e007f',\n",
       " 'Carole✝️🏴\\U000e0067\\U000e0062\\U000e0065\\U000e006e\\U000e0067\\U000e007f🇬🇧',\n",
       " 'Carsten Pe',\n",
       " 'Chloé',\n",
       " 'Chris',\n",
       " 'Chris Caseldine',\n",
       " 'Chris Townsend',\n",
       " 'Christine Mitchell',\n",
       " 'Chuck Dalldorf',\n",
       " 'ClimateKola',\n",
       " 'Corrie and Co',\n",
       " 'Craig Parkinson',\n",
       " 'DK',\n",
       " 'Dave',\n",
       " 'Dave Montgomery',\n",
       " 'DaveThingy',\n",
       " 'David Proudlock',\n",
       " 'Dee',\n",
       " 'Dj_b [GAWA]',\n",
       " \"Dorothy O'Brien\",\n",
       " 'Eduardo Jiménez',\n",
       " 'Edward Vanderpump',\n",
       " 'El Libro de Maat.(Silvia)',\n",
       " 'Elizabeth B',\n",
       " 'Elizabeth FITZPATRIC',\n",
       " 'Emma Morris',\n",
       " 'Every Last Station',\n",
       " 'Fitba Mad',\n",
       " 'Gavin Daly',\n",
       " 'Gerard Alexander',\n",
       " 'Gizmodo UK',\n",
       " 'Goodie',\n",
       " 'Graham C. Maloney',\n",
       " 'Graham Fraser',\n",
       " 'Grant McKenzie',\n",
       " 'Helen Crump',\n",
       " 'Iceman2606',\n",
       " 'Ichabod',\n",
       " 'Immersiversity',\n",
       " 'Into Cornwall',\n",
       " 'InvernessLochNess',\n",
       " 'Jae',\n",
       " 'James',\n",
       " 'Jay',\n",
       " \"Je m'appelle F\",\n",
       " 'Jean Dorothy Pedder',\n",
       " 'Jeanne Hoffa',\n",
       " 'Jennifer Ashlin',\n",
       " 'Jim Foster',\n",
       " 'Jim McKeown',\n",
       " 'Jim The Poet',\n",
       " 'Joanne Fraser',\n",
       " 'Joel',\n",
       " 'John Hunter',\n",
       " 'Johnny Posh',\n",
       " 'Jude Price',\n",
       " 'Judy Hockenbrough',\n",
       " 'KarlOnSea',\n",
       " 'Kate Vause',\n",
       " 'Kathy Levine',\n",
       " 'Kim Grant',\n",
       " 'Kim Harding',\n",
       " 'LD Perennis',\n",
       " 'Lana Preston',\n",
       " 'Let Dogs Be Dogs',\n",
       " 'Lisa von Steijern',\n",
       " 'Liz Elliott',\n",
       " 'Llwybr Arfordir Cymru / Wales Coast Path',\n",
       " 'Looking Glass Factory',\n",
       " 'Lori Adams',\n",
       " 'Lorna Robertson',\n",
       " 'Luke',\n",
       " 'Lupine Adventure Co-op 🧗\\u200d♀️🏔️',\n",
       " 'Marc Yves',\n",
       " 'Maria Wagner',\n",
       " 'Martin Finch',\n",
       " 'Matt Taylor',\n",
       " 'Maureen',\n",
       " 'Maurice Thomas',\n",
       " 'Michael J. Prior',\n",
       " 'Mike Armstrong 🇪🇺🌍🦋',\n",
       " 'Miri',\n",
       " 'MonicaOP♥️🌎✝️🌼',\n",
       " 'Nick Crew',\n",
       " 'Nick purcell',\n",
       " 'Nikki de Villiers',\n",
       " 'Norman Fucking Rockwell',\n",
       " 'Norman Kerr OBE',\n",
       " 'Oak Tree HA',\n",
       " 'Official Weather UK ❄️',\n",
       " 'Oliver Rendall',\n",
       " 'Orestis Georgiou',\n",
       " 'OurFuture - BOT',\n",
       " 'PABHERE',\n",
       " 'PGS Services',\n",
       " 'Paolo Saracino',\n",
       " 'Patricia Stoughton',\n",
       " 'Paul Scanlon 🏃\\u200d♂️🏴\\U000e0067\\U000e0062\\U000e0077\\U000e006c\\U000e0073\\U000e007f🏴\\U000e0067\\U000e0062\\U000e0065\\U000e006e\\U000e0067\\U000e007f🏃🎖',\n",
       " 'Paul lambert',\n",
       " 'Peter Gibbs',\n",
       " 'Port Glasgow West CC',\n",
       " 'Priscila',\n",
       " 'Real Gaz of Trumpton #fbpe',\n",
       " 'Ross Donaldson',\n",
       " 'Ruth Holmes',\n",
       " 'Ruth Wadey',\n",
       " 'STEVE DAVEY',\n",
       " 'Sam Williams',\n",
       " 'Samanthalouise',\n",
       " 'Sara Diana Williams',\n",
       " 'Severe thunderstorms',\n",
       " 'Shane Ryland',\n",
       " 'Silvie Krebs',\n",
       " \"Simon's Weather Photography\",\n",
       " 'Sophie Kervella de Joannis 🏴\\U000e0067\\U000e0062\\U000e0073\\U000e0063\\U000e0074\\U000e007f',\n",
       " 'Spaceships Rentals UK & Europe',\n",
       " 'Stephen Gorman',\n",
       " 'Sterntendo',\n",
       " 'Steve Payne Ⓥ 🌹✡',\n",
       " 'Stiofán Nutty',\n",
       " 'Stirling Holiday',\n",
       " 'Stirling Man',\n",
       " 'Stone Art Gallery',\n",
       " 'Strawberry Hill GC',\n",
       " 'Stuart Neilly 🇬🇧🇨🇦🇹🇭',\n",
       " 'Sue Billcliffe',\n",
       " 'Talking Glasgow',\n",
       " 'The Led Zeppelin Curse',\n",
       " 'The Picture Poet',\n",
       " 'The Riley Shot Photography (Scott for short 😀)',\n",
       " 'The Wanderer.... Marydoll',\n",
       " 'Tiger II',\n",
       " 'Tim Lennon',\n",
       " 'Tim Rayner',\n",
       " 'Tom Carter',\n",
       " 'Transport_FanUk/SalemAndCookie',\n",
       " 'Travel with Flower',\n",
       " 'Ultraleap',\n",
       " 'Veles 🇭🇰',\n",
       " 'Wales Propertyfinder',\n",
       " 'Wayfarer',\n",
       " 'Wayne Williams',\n",
       " 'Weather Updates',\n",
       " 'Wendy',\n",
       " \"What's On Southwest Magazine Est: 1996\",\n",
       " 'Will Clapp',\n",
       " 'Yeohan Kim',\n",
       " 'angie phillips',\n",
       " 'angus.',\n",
       " 'ashley',\n",
       " 'elanor 🍃💚🍃',\n",
       " 'hanna christine',\n",
       " 'ignis fatuus',\n",
       " 'j',\n",
       " 'last train 🇬🇧🇪🇺🏴\\U000e0067\\U000e0062\\U000e0065\\U000e006e\\U000e0067\\U000e007f🕎',\n",
       " 'nababuckskskd. boom',\n",
       " 'neverforgettea',\n",
       " 'noël',\n",
       " 'owen williams',\n",
       " 'phil ashley',\n",
       " 'realSteveSchindler.',\n",
       " 'ricitos.mcr',\n",
       " 'rockyhud',\n",
       " 'stuart Scarisbrick #FBPE Rejoin 🇪🇺',\n",
       " 'svenc',\n",
       " 'tasha charles',\n",
       " 'weather pictures',\n",
       " 'ᴅᴇʀᴇᴋ ʙʀᴏᴄᴋᴡᴀʏ ᴡᴇᴀᴛʜᴇʀᴍᴀɴ',\n",
       " 'ℭ𝔥𝔯𝔦𝔰 𝔅𝔢𝔞𝔠𝔥',\n",
       " '⚡☔🌩 Simon L ❄⛄🌨',\n",
       " 'じゅん 2/19 XRミーティング札幌進行役 3/9倉敷でセミナー',\n",
       " '🌗🌍 MrsC 🌎🌓',\n",
       " '🍀MMyLife✨',\n",
       " '🐶🐾TOBY CAIRN TERRIER 🐾🐶']"
      ]
     },
     "execution_count": 59,
     "metadata": {},
     "output_type": "execute_result"
    }
   ],
   "source": [
    "# find distinct user names\n",
    "# db.weather.distinct(\"user.name\")\n",
    "wcol.distinct(\"user.name\")\n"
   ]
  },
  {
   "cell_type": "code",
   "execution_count": 60,
   "id": "d17ba58b-d5d6-414e-bec6-72a98312218a",
   "metadata": {},
   "outputs": [
    {
     "data": {
      "text/plain": [
       "['animated_gif', 'photo', 'video']"
      ]
     },
     "execution_count": 60,
     "metadata": {},
     "output_type": "execute_result"
    }
   ],
   "source": [
    "# find the distinct media types\n",
    "# db.weather.distinct(\"extended_entities.media.type\")\n",
    "wcol.distinct(\"extended_entities.media.type\")"
   ]
  },
  {
   "cell_type": "code",
   "execution_count": 61,
   "id": "c156e734-ea3e-420f-bdca-1779f450fc06",
   "metadata": {},
   "outputs": [],
   "source": [
    "# function to iterate through the tweets found\n",
    "def printTweets(tweetSet):\n",
    "    for tweet in tweetSet:\n",
    "        print (tweet)\n",
    "# function to print results from update queries\n",
    "def printResult(result):\n",
    "    print ('Match count: ', result.matched_count)\n",
    "    print ('Modified count: ', result.modified_count)\n",
    "    print (type(result))"
   ]
  },
  {
   "cell_type": "code",
   "execution_count": 62,
   "id": "576509de-c2aa-4db6-86f8-84e15b4837f3",
   "metadata": {},
   "outputs": [
    {
     "name": "stdout",
     "output_type": "stream",
     "text": [
      "{'id': 1224222678682349570}\n"
     ]
    }
   ],
   "source": [
    "# db.weather.find({\"user.name\":\"BBC Highlands\"}, {id: 1, _id:0}).pretty()\n",
    "# Syntax difference: attribute names must be in quotes in Python\n",
    "tweets = wcol.find({\"user.name\":\"BBC Highlands\"}, {\"id\": 1, \"_id\":0})\n",
    "# call the printTweets function\n",
    "printTweets(tweets)"
   ]
  },
  {
   "cell_type": "code",
   "execution_count": 63,
   "id": "491bba3d-54d6-4bda-a450-45fe5d179d9c",
   "metadata": {},
   "outputs": [],
   "source": [
    "# search for \"sun\"\n",
    "# db.weather.find({text: \"sun\"})\n",
    "tweets = wcol.find({\"text\": \"sun\"})\n",
    "printTweets(tweets)"
   ]
  },
  {
   "cell_type": "code",
   "execution_count": 64,
   "id": "f02e2e24-8449-477f-b625-f310e776af01",
   "metadata": {},
   "outputs": [
    {
     "name": "stdout",
     "output_type": "stream",
     "text": [
      "{'_id': ObjectId('67e3768d403e94bf2ce093e4'), 'text': 'RT @frasergj: A sunny day at @StirUni this afternoon....until the wind picked up, blowing rain clouds over #Stirling (3/2) #WeatherWatcherG…'}\n",
      "{'_id': ObjectId('67e3768d403e94bf2ce093f1'), 'text': 'RT @frasergj: After a sunny start around #Stirling winds blowing rain clouds across (3/2) #WeatherWatcherGraham @BBCScotWeather @BBCAimsir…'}\n",
      "{'_id': ObjectId('67e3768d403e94bf2ce093f3'), 'text': 'RT @frasergj: A sunny day at @StirUni this afternoon....until the wind picked up, blowing rain clouds over #Stirling (3/2) #WeatherWatcherG…'}\n",
      "{'_id': ObjectId('67e3768d403e94bf2ce093fe'), 'text': 'RT @frasergj: A sunny day at @StirUni this afternoon....until the wind picked up, blowing rain clouds over #Stirling (3/2) #WeatherWatcherG…'}\n",
      "{'_id': ObjectId('67e3768d403e94bf2ce09401'), 'text': 'RT @frasergj: After a sunny start around #Stirling winds blowing rain clouds across (3/2) #WeatherWatcherGraham @BBCScotWeather @BBCAimsir…'}\n",
      "{'_id': ObjectId('67e3768d403e94bf2ce0940c'), 'text': 'A chilly sunset in ryhill park @JonMitchellITV @kerriegosneyTV @itvweather @metoffice @BBCWthrWatchers @bbcweather… https://t.co/3kHPFOj7W2'}\n",
      "{'_id': ObjectId('67e3768d403e94bf2ce0941c'), 'text': '#sunset over #m6n #rushhour @bbcmtd @bbcweather Birmingham https://t.co/xfmiSqR0u3'}\n",
      "{'_id': ObjectId('67e3768d403e94bf2ce09423'), 'text': 'A sunny day at @StirUni this afternoon....until the wind picked up, blowing rain clouds over #Stirling (3/2)… https://t.co/nkyHmHar8d'}\n",
      "{'_id': ObjectId('67e3768d403e94bf2ce09425'), 'text': 'RT @frasergj: After a sunny start around #Stirling winds blowing rain clouds across (3/2) #WeatherWatcherGraham @BBCScotWeather @BBCAimsir…'}\n",
      "{'_id': ObjectId('67e3768d403e94bf2ce0943d'), 'text': 'RT @frasergj: After a sunny start around #Stirling winds blowing rain clouds across (3/2) #WeatherWatcherGraham @BBCScotWeather @BBCAimsir…'}\n",
      "{'_id': ObjectId('67e3768d403e94bf2ce0946e'), 'text': 'RT @frasergj: After a sunny start around #Stirling winds blowing rain clouds across (3/2) #WeatherWatcherGraham @BBCScotWeather @BBCAimsir…'}\n",
      "{'_id': ObjectId('67e3768d403e94bf2ce0946f'), 'text': 'RT @frasergj: After a sunny start around #Stirling winds blowing rain clouds across (3/2) #WeatherWatcherGraham @BBCScotWeather @BBCAimsir…'}\n",
      "{'_id': ObjectId('67e3768d403e94bf2ce09471'), 'text': 'After a sunny start around #Stirling winds blowing rain clouds across (3/2) #WeatherWatcherGraham @BBCScotWeather… https://t.co/tOtpDgqBXF'}\n",
      "{'_id': ObjectId('67e3768d403e94bf2ce094b5'), 'text': 'RT @Iceman26061: Lovely pink clouds from yesterday🌅☁️ #clouds #sunset #weather #photography #Northamptonshire #loveukweather @LensAreLive @…'}\n",
      "{'_id': ObjectId('67e3768d403e94bf2ce094b8'), 'text': 'Porthleven 2014 the year the inner harbour baulks were smashed apart and lots of boats sunk/damaged… https://t.co/O14qq5QACO'}\n",
      "{'_id': ObjectId('67e3768d403e94bf2ce094c8'), 'text': 'Monday morning setting. @BBCNWT @bbcweather #Boothstown #Manchester #sunrise #sunrisephotography #colours https://t.co/M1Z6Zv5dHz'}\n"
     ]
    }
   ],
   "source": [
    "# db.weather.find({text: /sun/}).count()\n",
    "# Syntax difference: this form of pattern matching will not work in Python\n",
    "# You have to use the $regex syntax instead.\n",
    "tweets = wcol.find({'text':{'$regex':'sun'}}, {'text': 1})\n",
    "printTweets(tweets)"
   ]
  },
  {
   "cell_type": "code",
   "execution_count": 65,
   "id": "e81afb67-f3dc-4824-ab51-2dfe30f799be",
   "metadata": {},
   "outputs": [
    {
     "name": "stdout",
     "output_type": "stream",
     "text": [
      "{'_id': ObjectId('67e3768d403e94bf2ce093e4'), 'text': 'RT @frasergj: A sunny day at @StirUni this afternoon....until the wind picked up, blowing rain clouds over #Stirling (3/2) #WeatherWatcherG…'}\n",
      "{'_id': ObjectId('67e3768d403e94bf2ce093f1'), 'text': 'RT @frasergj: After a sunny start around #Stirling winds blowing rain clouds across (3/2) #WeatherWatcherGraham @BBCScotWeather @BBCAimsir…'}\n",
      "{'_id': ObjectId('67e3768d403e94bf2ce093f3'), 'text': 'RT @frasergj: A sunny day at @StirUni this afternoon....until the wind picked up, blowing rain clouds over #Stirling (3/2) #WeatherWatcherG…'}\n",
      "{'_id': ObjectId('67e3768d403e94bf2ce093fe'), 'text': 'RT @frasergj: A sunny day at @StirUni this afternoon....until the wind picked up, blowing rain clouds over #Stirling (3/2) #WeatherWatcherG…'}\n",
      "{'_id': ObjectId('67e3768d403e94bf2ce093ff'), 'text': 'RT @simon_weather: Sunrise in Great Yarmouth @StormchaserUKEU @carlharlott @danholley @stormbell @Lowweather @TheSnowDreamer @iainG81 @MetR…'}\n",
      "{'_id': ObjectId('67e3768d403e94bf2ce09401'), 'text': 'RT @frasergj: After a sunny start around #Stirling winds blowing rain clouds across (3/2) #WeatherWatcherGraham @BBCScotWeather @BBCAimsir…'}\n",
      "{'_id': ObjectId('67e3768d403e94bf2ce0940c'), 'text': 'A chilly sunset in ryhill park @JonMitchellITV @kerriegosneyTV @itvweather @metoffice @BBCWthrWatchers @bbcweather… https://t.co/3kHPFOj7W2'}\n",
      "{'_id': ObjectId('67e3768d403e94bf2ce0941c'), 'text': '#sunset over #m6n #rushhour @bbcmtd @bbcweather Birmingham https://t.co/xfmiSqR0u3'}\n",
      "{'_id': ObjectId('67e3768d403e94bf2ce09423'), 'text': 'A sunny day at @StirUni this afternoon....until the wind picked up, blowing rain clouds over #Stirling (3/2)… https://t.co/nkyHmHar8d'}\n",
      "{'_id': ObjectId('67e3768d403e94bf2ce09425'), 'text': 'RT @frasergj: After a sunny start around #Stirling winds blowing rain clouds across (3/2) #WeatherWatcherGraham @BBCScotWeather @BBCAimsir…'}\n",
      "{'_id': ObjectId('67e3768d403e94bf2ce0943d'), 'text': 'RT @frasergj: After a sunny start around #Stirling winds blowing rain clouds across (3/2) #WeatherWatcherGraham @BBCScotWeather @BBCAimsir…'}\n",
      "{'_id': ObjectId('67e3768d403e94bf2ce09443'), 'text': 'RT @simon_weather: Sunrise in Great Yarmouth @StormchaserUKEU @carlharlott @danholley @stormbell @Lowweather @TheSnowDreamer @iainG81 @MetR…'}\n",
      "{'_id': ObjectId('67e3768d403e94bf2ce09445'), 'text': 'Sunshine, rain or snow. For me all of the enjoyment of the weather comes from how it feels. ☀️ 🌧 ❄️ https://t.co/fUOgmvCdlJ'}\n",
      "{'_id': ObjectId('67e3768d403e94bf2ce09463'), 'text': 'RT @simon_weather: Sunrise in Great Yarmouth @StormchaserUKEU @carlharlott @danholley @stormbell @Lowweather @TheSnowDreamer @iainG81 @MetR…'}\n",
      "{'_id': ObjectId('67e3768d403e94bf2ce09467'), 'text': 'RT @simon_weather: Sunrise in Great Yarmouth @StormchaserUKEU @carlharlott @danholley @stormbell @Lowweather @TheSnowDreamer @iainG81 @MetR…'}\n",
      "{'_id': ObjectId('67e3768d403e94bf2ce0946e'), 'text': 'RT @frasergj: After a sunny start around #Stirling winds blowing rain clouds across (3/2) #WeatherWatcherGraham @BBCScotWeather @BBCAimsir…'}\n",
      "{'_id': ObjectId('67e3768d403e94bf2ce0946f'), 'text': 'RT @frasergj: After a sunny start around #Stirling winds blowing rain clouds across (3/2) #WeatherWatcherGraham @BBCScotWeather @BBCAimsir…'}\n",
      "{'_id': ObjectId('67e3768d403e94bf2ce09471'), 'text': 'After a sunny start around #Stirling winds blowing rain clouds across (3/2) #WeatherWatcherGraham @BBCScotWeather… https://t.co/tOtpDgqBXF'}\n",
      "{'_id': ObjectId('67e3768d403e94bf2ce09479'), 'text': 'RT @ruths_gallery: It looks as if that jackdaw is making a contrail 😳🤣 Sunny spells are forecast for #Twickenham before a cloudy afternoon…'}\n",
      "{'_id': ObjectId('67e3768d403e94bf2ce09483'), 'text': 'RT @ruths_gallery: It looks as if that jackdaw is making a contrail 😳🤣 Sunny spells are forecast for #Twickenham before a cloudy afternoon…'}\n",
      "{'_id': ObjectId('67e3768d403e94bf2ce09485'), 'text': 'RT @ruths_gallery: It looks as if that jackdaw is making a contrail 😳🤣 Sunny spells are forecast for #Twickenham before a cloudy afternoon…'}\n",
      "{'_id': ObjectId('67e3768d403e94bf2ce0949c'), 'text': 'RT @bbcweather: A day of #summer extremes in New Zealand on Sunday.\\n\\nWhilst Napier, on North Island, experienced its #hottestdayonrecord at…'}\n",
      "{'_id': ObjectId('67e3768d403e94bf2ce094a0'), 'text': 'It looks as if that jackdaw is making a contrail 😳🤣 Sunny spells are forecast for #Twickenham before a cloudy after… https://t.co/YrwBR88OX5'}\n",
      "{'_id': ObjectId('67e3768d403e94bf2ce094ab'), 'text': 'RT @simon_weather: Sunrise in Great Yarmouth @StormchaserUKEU @carlharlott @danholley @stormbell @Lowweather @TheSnowDreamer @iainG81 @MetR…'}\n",
      "{'_id': ObjectId('67e3768d403e94bf2ce094ad'), 'text': 'RT @ruths_gallery: It looks as if that jackdaw is making a contrail 😳🤣 Sunny spells are forecast for #Twickenham before a cloudy afternoon…'}\n",
      "{'_id': ObjectId('67e3768d403e94bf2ce094b0'), 'text': 'RT @ruths_gallery: It looks as if that jackdaw is making a contrail 😳🤣 Sunny spells are forecast for #Twickenham before a cloudy afternoon…'}\n",
      "{'_id': ObjectId('67e3768d403e94bf2ce094b3'), 'text': 'RT @simon_weather: Sunrise in Great Yarmouth @StormchaserUKEU @carlharlott @danholley @stormbell @Lowweather @TheSnowDreamer @iainG81 @MetR…'}\n",
      "{'_id': ObjectId('67e3768d403e94bf2ce094b5'), 'text': 'RT @Iceman26061: Lovely pink clouds from yesterday🌅☁️ #clouds #sunset #weather #photography #Northamptonshire #loveukweather @LensAreLive @…'}\n",
      "{'_id': ObjectId('67e3768d403e94bf2ce094b8'), 'text': 'Porthleven 2014 the year the inner harbour baulks were smashed apart and lots of boats sunk/damaged… https://t.co/O14qq5QACO'}\n",
      "{'_id': ObjectId('67e3768d403e94bf2ce094bb'), 'text': 'RT @simon_weather: Sunrise in Great Yarmouth @StormchaserUKEU @carlharlott @danholley @stormbell @Lowweather @TheSnowDreamer @iainG81 @MetR…'}\n",
      "{'_id': ObjectId('67e3768d403e94bf2ce094bc'), 'text': 'Sunrise in Great Yarmouth @StormchaserUKEU @carlharlott @danholley @stormbell @Lowweather @TheSnowDreamer @iainG81… https://t.co/RNatAcYBDn'}\n",
      "{'_id': ObjectId('67e3768d403e94bf2ce094be'), 'text': 'RT @simon_weather: Sunrise in Great Yarmouth @StormchaserUKEU @carlharlott @danholley @stormbell @Lowweather @TheSnowDreamer @iainG81 @MetR…'}\n",
      "{'_id': ObjectId('67e3768d403e94bf2ce094c8'), 'text': 'Monday morning setting. @BBCNWT @bbcweather #Boothstown #Manchester #sunrise #sunrisephotography #colours https://t.co/M1Z6Zv5dHz'}\n"
     ]
    }
   ],
   "source": [
    "# db.weather.find({ text: { $regex: /sun/i } }).count()\n",
    "# If you want to make the search case insensitive, you have to use $options␣ with $regex:\n",
    "tweets = wcol.find({'text':{'$regex':'sun', '$options': 'i'}}, {'text': 1})\n",
    "printTweets(tweets)"
   ]
  },
  {
   "cell_type": "code",
   "execution_count": 66,
   "id": "851ad3ca-0816-4b58-a277-5c9b95277ef9",
   "metadata": {},
   "outputs": [
    {
     "data": {
      "text/plain": [
       "36"
      ]
     },
     "execution_count": 66,
     "metadata": {},
     "output_type": "execute_result"
    }
   ],
   "source": [
    "# db.weather.find({text: /rain/}).count()\n",
    "# Syntax difference: count() is depreciated.\n",
    "# Use count_documents instead, which can take a Regular Expression (or any␣\n",
    "#query) as a parameter.\n",
    "wcol.count_documents({'text':{'$regex':'rain'}})"
   ]
  },
  {
   "cell_type": "code",
   "execution_count": 67,
   "id": "c5b210d2-3697-47b8-b97f-49396f7b39c5",
   "metadata": {},
   "outputs": [
    {
     "data": {
      "text/plain": [
       "124"
      ]
     },
     "execution_count": 67,
     "metadata": {},
     "output_type": "execute_result"
    }
   ],
   "source": [
    "# find retweets - starting with RT\n",
    "# db.weather.find({ text: { $regex: /^RT/i } }).count()\n",
    "wcol.count_documents({'text':{'$regex':'^RT','$options': 'i'}})"
   ]
  },
  {
   "cell_type": "code",
   "execution_count": 68,
   "id": "56fe8536-4cfe-403c-b4e6-18f26a3d4d09",
   "metadata": {},
   "outputs": [
    {
     "data": {
      "text/plain": [
       "0"
      ]
     },
     "execution_count": 68,
     "metadata": {},
     "output_type": "execute_result"
    }
   ],
   "source": [
    "# find tweets ending in snow\n",
    "# db.weather.find({ text: { $regex: /snow$/i } })\n",
    "wcol.count_documents({'text':{'$regex':'snow$', '$options': 'i'}})"
   ]
  },
  {
   "cell_type": "code",
   "execution_count": 69,
   "id": "ee60128a-82aa-407f-96a8-c485640ace3a",
   "metadata": {},
   "outputs": [
    {
     "name": "stdout",
     "output_type": "stream",
     "text": [
      "{'_id': ObjectId('67e3768d403e94bf2ce093df'), 'text': 'RT @DerekTheWeather: A powerful Jet Stream will propagate across the north Atlantic next week.\\n\\nStrong winds, gales, rain and wintry shower…'}\n",
      "{'_id': ObjectId('67e3768d403e94bf2ce093e1'), 'text': 'RT @DerekTheWeather: A powerful Jet Stream will propagate across the north Atlantic next week.\\n\\nStrong winds, gales, rain and wintry shower…'}\n",
      "{'_id': ObjectId('67e3768d403e94bf2ce093e4'), 'text': 'RT @frasergj: A sunny day at @StirUni this afternoon....until the wind picked up, blowing rain clouds over #Stirling (3/2) #WeatherWatcherG…'}\n",
      "{'_id': ObjectId('67e3768d403e94bf2ce093e5'), 'text': 'RT @DerekTheWeather: A powerful Jet Stream will propagate across the north Atlantic next week.\\n\\nStrong winds, gales, rain and wintry shower…'}\n",
      "{'_id': ObjectId('67e3768d403e94bf2ce093e8'), 'text': 'RT @DerekTheWeather: A powerful Jet Stream will propagate across the north Atlantic next week.\\n\\nStrong winds, gales, rain and wintry shower…'}\n",
      "{'_id': ObjectId('67e3768d403e94bf2ce093e9'), 'text': 'RT @DerekTheWeather: A powerful Jet Stream will propagate across the north Atlantic next week.\\n\\nStrong winds, gales, rain and wintry shower…'}\n",
      "{'_id': ObjectId('67e3768d403e94bf2ce093eb'), 'text': 'RT @DerekTheWeather: A powerful Jet Stream will propagate across the north Atlantic next week.\\n\\nStrong winds, gales, rain and wintry shower…'}\n",
      "{'_id': ObjectId('67e3768d403e94bf2ce093ed'), 'text': 'RT @DerekTheWeather: A powerful Jet Stream will propagate across the north Atlantic next week.\\n\\nStrong winds, gales, rain and wintry shower…'}\n",
      "{'_id': ObjectId('67e3768d403e94bf2ce093ee'), 'text': 'RT @DerekTheWeather: A powerful Jet Stream will propagate across the north Atlantic next week.\\n\\nStrong winds, gales, rain and wintry shower…'}\n",
      "{'_id': ObjectId('67e3768d403e94bf2ce093ef'), 'text': 'RT @DerekTheWeather: A powerful Jet Stream will propagate across the north Atlantic next week.\\n\\nStrong winds, gales, rain and wintry shower…'}\n",
      "{'_id': ObjectId('67e3768d403e94bf2ce093f0'), 'text': 'RT @DerekTheWeather: A powerful Jet Stream will propagate across the north Atlantic next week.\\n\\nStrong winds, gales, rain and wintry shower…'}\n",
      "{'_id': ObjectId('67e3768d403e94bf2ce093f1'), 'text': 'RT @frasergj: After a sunny start around #Stirling winds blowing rain clouds across (3/2) #WeatherWatcherGraham @BBCScotWeather @BBCAimsir…'}\n",
      "{'_id': ObjectId('67e3768d403e94bf2ce093f2'), 'text': 'A powerful Jet Stream will propagate across the north Atlantic next week.\\n\\nStrong winds, gales, rain and wintry sho… https://t.co/dpuy63UoBJ'}\n",
      "{'_id': ObjectId('67e3768d403e94bf2ce093f3'), 'text': 'RT @frasergj: A sunny day at @StirUni this afternoon....until the wind picked up, blowing rain clouds over #Stirling (3/2) #WeatherWatcherG…'}\n",
      "{'_id': ObjectId('67e3768d403e94bf2ce093f7'), 'text': 'RT @DerekTheWeather: A powerful Jet Stream will propagate across the north Atlantic next week.\\n\\nStrong winds, gales, rain and wintry shower…'}\n",
      "{'_id': ObjectId('67e3768d403e94bf2ce093fc'), 'text': 'RT @DerekTheWeather: A powerful Jet Stream will propagate across the north Atlantic next week.\\n\\nStrong winds, gales, rain and wintry shower…'}\n",
      "{'_id': ObjectId('67e3768d403e94bf2ce093fe'), 'text': 'RT @frasergj: A sunny day at @StirUni this afternoon....until the wind picked up, blowing rain clouds over #Stirling (3/2) #WeatherWatcherG…'}\n",
      "{'_id': ObjectId('67e3768d403e94bf2ce09401'), 'text': 'RT @frasergj: After a sunny start around #Stirling winds blowing rain clouds across (3/2) #WeatherWatcherGraham @BBCScotWeather @BBCAimsir…'}\n",
      "{'_id': ObjectId('67e3768d403e94bf2ce0940c'), 'text': 'A chilly sunset in ryhill park @JonMitchellITV @kerriegosneyTV @itvweather @metoffice @BBCWthrWatchers @bbcweather… https://t.co/3kHPFOj7W2'}\n",
      "{'_id': ObjectId('67e3768d403e94bf2ce0941c'), 'text': '#sunset over #m6n #rushhour @bbcmtd @bbcweather Birmingham https://t.co/xfmiSqR0u3'}\n",
      "{'_id': ObjectId('67e3768d403e94bf2ce09423'), 'text': 'A sunny day at @StirUni this afternoon....until the wind picked up, blowing rain clouds over #Stirling (3/2)… https://t.co/nkyHmHar8d'}\n",
      "{'_id': ObjectId('67e3768d403e94bf2ce09425'), 'text': 'RT @frasergj: After a sunny start around #Stirling winds blowing rain clouds across (3/2) #WeatherWatcherGraham @BBCScotWeather @BBCAimsir…'}\n",
      "{'_id': ObjectId('67e3768d403e94bf2ce0943d'), 'text': 'RT @frasergj: After a sunny start around #Stirling winds blowing rain clouds across (3/2) #WeatherWatcherGraham @BBCScotWeather @BBCAimsir…'}\n",
      "{'_id': ObjectId('67e3768d403e94bf2ce09445'), 'text': 'Sunshine, rain or snow. For me all of the enjoyment of the weather comes from how it feels. ☀️ 🌧 ❄️ https://t.co/fUOgmvCdlJ'}\n",
      "{'_id': ObjectId('67e3768d403e94bf2ce09452'), 'text': '@every_station @ScotRail @AlexHynes @bbcweather I saw that train at Carsile about 30 minutes ago, I’m on an avanti… https://t.co/IJsjzTb25C'}\n",
      "{'_id': ObjectId('67e3768d403e94bf2ce09464'), 'text': '@Silligilli @porridgebrain @cairnstoon @bbcweather'}\n",
      "{'_id': ObjectId('67e3768d403e94bf2ce09466'), 'text': '@YorkshireBird_ @porridgebrain @LevParikian @bbcweather'}\n",
      "{'_id': ObjectId('67e3768d403e94bf2ce0946e'), 'text': 'RT @frasergj: After a sunny start around #Stirling winds blowing rain clouds across (3/2) #WeatherWatcherGraham @BBCScotWeather @BBCAimsir…'}\n",
      "{'_id': ObjectId('67e3768d403e94bf2ce0946f'), 'text': 'RT @frasergj: After a sunny start around #Stirling winds blowing rain clouds across (3/2) #WeatherWatcherGraham @BBCScotWeather @BBCAimsir…'}\n",
      "{'_id': ObjectId('67e3768d403e94bf2ce09471'), 'text': 'After a sunny start around #Stirling winds blowing rain clouds across (3/2) #WeatherWatcherGraham @BBCScotWeather… https://t.co/tOtpDgqBXF'}\n",
      "{'_id': ObjectId('67e3768d403e94bf2ce094aa'), 'text': 'RT @bbcweather: A bright, mild and windy day. Showers in the northwest, some rain developing in southern England. Winds strengthen with gus…'}\n",
      "{'_id': ObjectId('67e3768d403e94bf2ce094b5'), 'text': 'RT @Iceman26061: Lovely pink clouds from yesterday🌅☁️ #clouds #sunset #weather #photography #Northamptonshire #loveukweather @LensAreLive @…'}\n",
      "{'_id': ObjectId('67e3768d403e94bf2ce094b8'), 'text': 'Porthleven 2014 the year the inner harbour baulks were smashed apart and lots of boats sunk/damaged… https://t.co/O14qq5QACO'}\n",
      "{'_id': ObjectId('67e3768d403e94bf2ce094c4'), 'text': 'RT @bbcweather: A bright, mild and windy day. Showers in the northwest, some rain developing in southern England. Winds strengthen with gus…'}\n",
      "{'_id': ObjectId('67e3768d403e94bf2ce094c6'), 'text': 'RT @bbcweather: A bright, mild and windy day. Showers in the northwest, some rain developing in southern England. Winds strengthen with gus…'}\n",
      "{'_id': ObjectId('67e3768d403e94bf2ce094c8'), 'text': 'Monday morning setting. @BBCNWT @bbcweather #Boothstown #Manchester #sunrise #sunrisephotography #colours https://t.co/M1Z6Zv5dHz'}\n",
      "{'_id': ObjectId('67e3768d403e94bf2ce094c9'), 'text': 'RT @bbcweather: A bright, mild and windy day. Showers in the northwest, some rain developing in southern England. Winds strengthen with gus…'}\n",
      "{'_id': ObjectId('67e3768d403e94bf2ce094cb'), 'text': 'RT @bbcweather: A bright, mild and windy day. Showers in the northwest, some rain developing in southern England. Winds strengthen with gus…'}\n",
      "{'_id': ObjectId('67e3768d403e94bf2ce094cd'), 'text': 'RT @bbcweather: A bright, mild and windy day. Showers in the northwest, some rain developing in southern England. Winds strengthen with gus…'}\n",
      "{'_id': ObjectId('67e3768d403e94bf2ce094ce'), 'text': 'RT @bbcweather: A bright, mild and windy day. Showers in the northwest, some rain developing in southern England. Winds strengthen with gus…'}\n",
      "{'_id': ObjectId('67e3768d403e94bf2ce094d0'), 'text': 'A bright, mild and windy day. Showers in the northwest, some rain developing in southern England. Winds strengthen… https://t.co/IByZz4C5te'}\n"
     ]
    }
   ],
   "source": [
    "#db.weather.find({ text: { $in: [/^sun/i, /rain/] } }).count()\n",
    "#wcol.count_documents({'text': { '$in': ['$regex': 'sun']}})\n",
    "# Use of $in is less obvious and needs use of the re (regular expression␣ library\n",
    "tweets = wcol.find({'text': {'$in': [ re.compile('.*sun.*'), re.compile('.*rain.*')]}}, {'text':1})\n",
    "printTweets(tweets)"
   ]
  },
  {
   "cell_type": "code",
   "execution_count": 70,
   "id": "9212c958-b27e-4237-afa8-d29b42057353",
   "metadata": {},
   "outputs": [
    {
     "data": {
      "text/plain": [
       "32"
      ]
     },
     "execution_count": 70,
     "metadata": {},
     "output_type": "execute_result"
    }
   ],
   "source": [
    "# db.weather.find({\"retweeted_status.retweet_count\": { $gt : 20 }}).count()\n",
    "# Syntax difference: $gt must be in quotes\n",
    "wcol.count_documents({\"retweeted_status.retweet_count\": { '$gt' : 20 }})"
   ]
  },
  {
   "cell_type": "code",
   "execution_count": 71,
   "id": "96e0a6cc-d025-4bfb-a26e-d9af1aefe25c",
   "metadata": {},
   "outputs": [
    {
     "data": {
      "text/plain": [
       "0"
      ]
     },
     "execution_count": 71,
     "metadata": {},
     "output_type": "execute_result"
    }
   ],
   "source": [
    "# db.weather.find({\"user.location\": { $eq : null }}).count()\n",
    "# Syntax difference: $eq must be in quotes and null is represented by the␣\n",
    "#singleton None\n",
    "wcol.count_documents( {\"user.location\": { '$eq' : None }})"
   ]
  },
  {
   "cell_type": "code",
   "execution_count": 72,
   "id": "9b80eac7-3fee-4807-a6ba-08f7a6b1fe8d",
   "metadata": {},
   "outputs": [
    {
     "data": {
      "text/plain": [
       "130"
      ]
     },
     "execution_count": 72,
     "metadata": {},
     "output_type": "execute_result"
    }
   ],
   "source": [
    "# db.weather.find({\"user.geo_enabled\": { $eq : true }}).count()\n",
    "# Syntax difference: true is represented by True\n",
    "wcol.count_documents( {\"user.geo_enabled\": {'$eq' : True }})"
   ]
  },
  {
   "cell_type": "code",
   "execution_count": 73,
   "id": "8580baa8-5999-4945-9086-ea84941b9777",
   "metadata": {},
   "outputs": [
    {
     "data": {
      "text/plain": [
       "6"
      ]
     },
     "execution_count": 73,
     "metadata": {},
     "output_type": "execute_result"
    }
   ],
   "source": [
    "# db.weather.find({\"user.followers_count\": { $lte : 10 }}).count()\n",
    "# Syntax difference: $lte must be in quotes\n",
    "wcol.count_documents( {\"user.followers_count\": { '$lte' : 10 }})"
   ]
  },
  {
   "cell_type": "code",
   "execution_count": 74,
   "id": "1684879d-ec13-45bb-8df6-70ea5b6036af",
   "metadata": {},
   "outputs": [
    {
     "name": "stdout",
     "output_type": "stream",
     "text": [
      "{'_id': None, 'totalAmount': 2221, 'count': 250}\n"
     ]
    }
   ],
   "source": [
    "# GROUP BY command and aggregation\n",
    "#db.weather.aggregate( [ {\n",
    "# $group: {\n",
    "# _id : null,\n",
    "# totalAmount: { $sum: \"$retweeted_status.retweet_count\" },\n",
    "# count: { $sum: 1 }\n",
    "# } } ] )\n",
    "# Syntax difference: all the parameters must be in quotes\n",
    "grpBy = wcol.aggregate( [\n",
    "{\n",
    "'$group': {\n",
    "'_id' : None,\n",
    "'totalAmount': { '$sum': \"$retweeted_status.retweet_count\" },\n",
    "'count': { '$sum': 1 }\n",
    "}\n",
    "}\n",
    "] )\n",
    "printTweets(grpBy)"
   ]
  },
  {
   "cell_type": "code",
   "execution_count": 75,
   "id": "68d6f60b-dac2-4298-88c0-d5afd350d516",
   "metadata": {},
   "outputs": [],
   "source": [
    "#9 Cleaning Data\n",
    "\n"
   ]
  },
  {
   "cell_type": "code",
   "execution_count": 76,
   "id": "b184f3ea-f430-4d9c-998d-62d5971dde4d",
   "metadata": {},
   "outputs": [
    {
     "data": {
      "text/plain": [
       "['en', 'es', 'und']"
      ]
     },
     "execution_count": 76,
     "metadata": {},
     "output_type": "execute_result"
    }
   ],
   "source": [
    "# Run this command again and pick one of the languages found:\n",
    "wcol.distinct(\"lang\")"
   ]
  },
  {
   "cell_type": "code",
   "execution_count": 79,
   "id": "70a4f05f-99e0-4110-9a2d-2a476e3184dc",
   "metadata": {},
   "outputs": [
    {
     "name": "stdout",
     "output_type": "stream",
     "text": [
      "{'_id': ObjectId('67e3768d403e94bf2ce093da'), 'lang': 'en'}\n",
      "{'_id': ObjectId('67e3768d403e94bf2ce093dc'), 'lang': 'en'}\n",
      "{'_id': ObjectId('67e3768d403e94bf2ce093de'), 'lang': 'en'}\n",
      "{'_id': ObjectId('67e3768d403e94bf2ce093df'), 'lang': 'en'}\n",
      "{'_id': ObjectId('67e3768d403e94bf2ce093e0'), 'lang': 'en'}\n",
      "{'_id': ObjectId('67e3768d403e94bf2ce093e1'), 'lang': 'en'}\n",
      "{'_id': ObjectId('67e3768d403e94bf2ce093e2'), 'lang': 'en'}\n",
      "{'_id': ObjectId('67e3768d403e94bf2ce093e3'), 'lang': 'en'}\n",
      "{'_id': ObjectId('67e3768d403e94bf2ce093e4'), 'lang': 'en'}\n",
      "{'_id': ObjectId('67e3768d403e94bf2ce093e5'), 'lang': 'en'}\n",
      "{'_id': ObjectId('67e3768d403e94bf2ce093e6'), 'lang': 'en'}\n",
      "{'_id': ObjectId('67e3768d403e94bf2ce093e7'), 'lang': 'en'}\n",
      "{'_id': ObjectId('67e3768d403e94bf2ce093e8'), 'lang': 'en'}\n",
      "{'_id': ObjectId('67e3768d403e94bf2ce093e9'), 'lang': 'en'}\n",
      "{'_id': ObjectId('67e3768d403e94bf2ce093ea'), 'lang': 'en'}\n",
      "{'_id': ObjectId('67e3768d403e94bf2ce093eb'), 'lang': 'en'}\n",
      "{'_id': ObjectId('67e3768d403e94bf2ce093ec'), 'lang': 'en'}\n",
      "{'_id': ObjectId('67e3768d403e94bf2ce093ed'), 'lang': 'en'}\n",
      "{'_id': ObjectId('67e3768d403e94bf2ce093ee'), 'lang': 'en'}\n",
      "{'_id': ObjectId('67e3768d403e94bf2ce093ef'), 'lang': 'en'}\n",
      "{'_id': ObjectId('67e3768d403e94bf2ce093f0'), 'lang': 'en'}\n",
      "{'_id': ObjectId('67e3768d403e94bf2ce093f1'), 'lang': 'en'}\n",
      "{'_id': ObjectId('67e3768d403e94bf2ce093f2'), 'lang': 'en'}\n",
      "{'_id': ObjectId('67e3768d403e94bf2ce093f3'), 'lang': 'en'}\n",
      "{'_id': ObjectId('67e3768d403e94bf2ce093f4'), 'lang': 'en'}\n",
      "{'_id': ObjectId('67e3768d403e94bf2ce093f5'), 'lang': 'en'}\n",
      "{'_id': ObjectId('67e3768d403e94bf2ce093f6'), 'lang': 'en'}\n",
      "{'_id': ObjectId('67e3768d403e94bf2ce093f7'), 'lang': 'en'}\n",
      "{'_id': ObjectId('67e3768d403e94bf2ce093f9'), 'lang': 'en'}\n",
      "{'_id': ObjectId('67e3768d403e94bf2ce093fa'), 'lang': 'en'}\n",
      "{'_id': ObjectId('67e3768d403e94bf2ce093fb'), 'lang': 'en'}\n",
      "{'_id': ObjectId('67e3768d403e94bf2ce093fc'), 'lang': 'en'}\n",
      "{'_id': ObjectId('67e3768d403e94bf2ce093fd'), 'lang': 'en'}\n",
      "{'_id': ObjectId('67e3768d403e94bf2ce093fe'), 'lang': 'en'}\n",
      "{'_id': ObjectId('67e3768d403e94bf2ce093ff'), 'lang': 'en'}\n",
      "{'_id': ObjectId('67e3768d403e94bf2ce09400'), 'lang': 'en'}\n",
      "{'_id': ObjectId('67e3768d403e94bf2ce09401'), 'lang': 'en'}\n",
      "{'_id': ObjectId('67e3768d403e94bf2ce09402'), 'lang': 'en'}\n",
      "{'_id': ObjectId('67e3768d403e94bf2ce09404'), 'lang': 'en'}\n",
      "{'_id': ObjectId('67e3768d403e94bf2ce09405'), 'lang': 'en'}\n",
      "{'_id': ObjectId('67e3768d403e94bf2ce09406'), 'lang': 'en'}\n",
      "{'_id': ObjectId('67e3768d403e94bf2ce09407'), 'lang': 'en'}\n",
      "{'_id': ObjectId('67e3768d403e94bf2ce09408'), 'lang': 'en'}\n",
      "{'_id': ObjectId('67e3768d403e94bf2ce0940a'), 'lang': 'en'}\n",
      "{'_id': ObjectId('67e3768d403e94bf2ce0940b'), 'lang': 'en'}\n",
      "{'_id': ObjectId('67e3768d403e94bf2ce0940c'), 'lang': 'en'}\n",
      "{'_id': ObjectId('67e3768d403e94bf2ce0940d'), 'lang': 'en'}\n",
      "{'_id': ObjectId('67e3768d403e94bf2ce0940e'), 'lang': 'en'}\n",
      "{'_id': ObjectId('67e3768d403e94bf2ce0940f'), 'lang': 'en'}\n",
      "{'_id': ObjectId('67e3768d403e94bf2ce09410'), 'lang': 'en'}\n",
      "{'_id': ObjectId('67e3768d403e94bf2ce09413'), 'lang': 'en'}\n",
      "{'_id': ObjectId('67e3768d403e94bf2ce09414'), 'lang': 'en'}\n",
      "{'_id': ObjectId('67e3768d403e94bf2ce09415'), 'lang': 'en'}\n",
      "{'_id': ObjectId('67e3768d403e94bf2ce09416'), 'lang': 'en'}\n",
      "{'_id': ObjectId('67e3768d403e94bf2ce09417'), 'lang': 'en'}\n",
      "{'_id': ObjectId('67e3768d403e94bf2ce09418'), 'lang': 'en'}\n",
      "{'_id': ObjectId('67e3768d403e94bf2ce09419'), 'lang': 'en'}\n",
      "{'_id': ObjectId('67e3768d403e94bf2ce0941a'), 'lang': 'en'}\n",
      "{'_id': ObjectId('67e3768d403e94bf2ce0941b'), 'lang': 'en'}\n",
      "{'_id': ObjectId('67e3768d403e94bf2ce0941c'), 'lang': 'en'}\n",
      "{'_id': ObjectId('67e3768d403e94bf2ce0941d'), 'lang': 'en'}\n",
      "{'_id': ObjectId('67e3768d403e94bf2ce0941e'), 'lang': 'en'}\n",
      "{'_id': ObjectId('67e3768d403e94bf2ce0941f'), 'lang': 'en'}\n",
      "{'_id': ObjectId('67e3768d403e94bf2ce09420'), 'lang': 'en'}\n",
      "{'_id': ObjectId('67e3768d403e94bf2ce09421'), 'lang': 'en'}\n",
      "{'_id': ObjectId('67e3768d403e94bf2ce09422'), 'lang': 'en'}\n",
      "{'_id': ObjectId('67e3768d403e94bf2ce09423'), 'lang': 'en'}\n",
      "{'_id': ObjectId('67e3768d403e94bf2ce09424'), 'lang': 'en'}\n",
      "{'_id': ObjectId('67e3768d403e94bf2ce09425'), 'lang': 'en'}\n",
      "{'_id': ObjectId('67e3768d403e94bf2ce09426'), 'lang': 'en'}\n",
      "{'_id': ObjectId('67e3768d403e94bf2ce09427'), 'lang': 'en'}\n",
      "{'_id': ObjectId('67e3768d403e94bf2ce09428'), 'lang': 'en'}\n",
      "{'_id': ObjectId('67e3768d403e94bf2ce09429'), 'lang': 'en'}\n",
      "{'_id': ObjectId('67e3768d403e94bf2ce0942a'), 'lang': 'en'}\n",
      "{'_id': ObjectId('67e3768d403e94bf2ce0942b'), 'lang': 'en'}\n",
      "{'_id': ObjectId('67e3768d403e94bf2ce0942c'), 'lang': 'en'}\n",
      "{'_id': ObjectId('67e3768d403e94bf2ce0942d'), 'lang': 'en'}\n",
      "{'_id': ObjectId('67e3768d403e94bf2ce0942e'), 'lang': 'en'}\n",
      "{'_id': ObjectId('67e3768d403e94bf2ce0942f'), 'lang': 'en'}\n",
      "{'_id': ObjectId('67e3768d403e94bf2ce09430'), 'lang': 'en'}\n",
      "{'_id': ObjectId('67e3768d403e94bf2ce09431'), 'lang': 'en'}\n",
      "{'_id': ObjectId('67e3768d403e94bf2ce09432'), 'lang': 'en'}\n",
      "{'_id': ObjectId('67e3768d403e94bf2ce09433'), 'lang': 'en'}\n",
      "{'_id': ObjectId('67e3768d403e94bf2ce09434'), 'lang': 'en'}\n",
      "{'_id': ObjectId('67e3768d403e94bf2ce09435'), 'lang': 'en'}\n",
      "{'_id': ObjectId('67e3768d403e94bf2ce09436'), 'lang': 'en'}\n",
      "{'_id': ObjectId('67e3768d403e94bf2ce09437'), 'lang': 'en'}\n",
      "{'_id': ObjectId('67e3768d403e94bf2ce09438'), 'lang': 'en'}\n",
      "{'_id': ObjectId('67e3768d403e94bf2ce09439'), 'lang': 'en'}\n",
      "{'_id': ObjectId('67e3768d403e94bf2ce0943a'), 'lang': 'en'}\n",
      "{'_id': ObjectId('67e3768d403e94bf2ce0943b'), 'lang': 'en'}\n",
      "{'_id': ObjectId('67e3768d403e94bf2ce0943c'), 'lang': 'en'}\n",
      "{'_id': ObjectId('67e3768d403e94bf2ce0943d'), 'lang': 'en'}\n",
      "{'_id': ObjectId('67e3768d403e94bf2ce0943e'), 'lang': 'en'}\n",
      "{'_id': ObjectId('67e3768d403e94bf2ce0943f'), 'lang': 'en'}\n",
      "{'_id': ObjectId('67e3768d403e94bf2ce09440'), 'lang': 'en'}\n",
      "{'_id': ObjectId('67e3768d403e94bf2ce09441'), 'lang': 'en'}\n",
      "{'_id': ObjectId('67e3768d403e94bf2ce09442'), 'lang': 'en'}\n",
      "{'_id': ObjectId('67e3768d403e94bf2ce09443'), 'lang': 'en'}\n",
      "{'_id': ObjectId('67e3768d403e94bf2ce09444'), 'lang': 'en'}\n",
      "{'_id': ObjectId('67e3768d403e94bf2ce09445'), 'lang': 'en'}\n",
      "{'_id': ObjectId('67e3768d403e94bf2ce09446'), 'lang': 'en'}\n",
      "{'_id': ObjectId('67e3768d403e94bf2ce09447'), 'lang': 'en'}\n",
      "{'_id': ObjectId('67e3768d403e94bf2ce09448'), 'lang': 'en'}\n",
      "{'_id': ObjectId('67e3768d403e94bf2ce09449'), 'lang': 'en'}\n",
      "{'_id': ObjectId('67e3768d403e94bf2ce0944a'), 'lang': 'en'}\n",
      "{'_id': ObjectId('67e3768d403e94bf2ce0944b'), 'lang': 'en'}\n",
      "{'_id': ObjectId('67e3768d403e94bf2ce0944c'), 'lang': 'en'}\n",
      "{'_id': ObjectId('67e3768d403e94bf2ce0944d'), 'lang': 'en'}\n",
      "{'_id': ObjectId('67e3768d403e94bf2ce0944e'), 'lang': 'en'}\n",
      "{'_id': ObjectId('67e3768d403e94bf2ce0944f'), 'lang': 'en'}\n",
      "{'_id': ObjectId('67e3768d403e94bf2ce09450'), 'lang': 'en'}\n",
      "{'_id': ObjectId('67e3768d403e94bf2ce09451'), 'lang': 'en'}\n",
      "{'_id': ObjectId('67e3768d403e94bf2ce09452'), 'lang': 'en'}\n",
      "{'_id': ObjectId('67e3768d403e94bf2ce09453'), 'lang': 'en'}\n",
      "{'_id': ObjectId('67e3768d403e94bf2ce09454'), 'lang': 'en'}\n",
      "{'_id': ObjectId('67e3768d403e94bf2ce09455'), 'lang': 'en'}\n",
      "{'_id': ObjectId('67e3768d403e94bf2ce09456'), 'lang': 'en'}\n",
      "{'_id': ObjectId('67e3768d403e94bf2ce09457'), 'lang': 'en'}\n",
      "{'_id': ObjectId('67e3768d403e94bf2ce09458'), 'lang': 'en'}\n",
      "{'_id': ObjectId('67e3768d403e94bf2ce09459'), 'lang': 'en'}\n",
      "{'_id': ObjectId('67e3768d403e94bf2ce0945a'), 'lang': 'en'}\n",
      "{'_id': ObjectId('67e3768d403e94bf2ce0945b'), 'lang': 'en'}\n",
      "{'_id': ObjectId('67e3768d403e94bf2ce0945c'), 'lang': 'en'}\n",
      "{'_id': ObjectId('67e3768d403e94bf2ce0945d'), 'lang': 'en'}\n",
      "{'_id': ObjectId('67e3768d403e94bf2ce0945e'), 'lang': 'en'}\n",
      "{'_id': ObjectId('67e3768d403e94bf2ce09460'), 'lang': 'en'}\n",
      "{'_id': ObjectId('67e3768d403e94bf2ce09461'), 'lang': 'en'}\n",
      "{'_id': ObjectId('67e3768d403e94bf2ce09462'), 'lang': 'en'}\n",
      "{'_id': ObjectId('67e3768d403e94bf2ce09463'), 'lang': 'en'}\n",
      "{'_id': ObjectId('67e3768d403e94bf2ce09465'), 'lang': 'en'}\n",
      "{'_id': ObjectId('67e3768d403e94bf2ce09467'), 'lang': 'en'}\n",
      "{'_id': ObjectId('67e3768d403e94bf2ce09469'), 'lang': 'en'}\n",
      "{'_id': ObjectId('67e3768d403e94bf2ce0946b'), 'lang': 'en'}\n",
      "{'_id': ObjectId('67e3768d403e94bf2ce0946c'), 'lang': 'en'}\n",
      "{'_id': ObjectId('67e3768d403e94bf2ce0946d'), 'lang': 'en'}\n",
      "{'_id': ObjectId('67e3768d403e94bf2ce0946e'), 'lang': 'en'}\n",
      "{'_id': ObjectId('67e3768d403e94bf2ce0946f'), 'lang': 'en'}\n",
      "{'_id': ObjectId('67e3768d403e94bf2ce09470'), 'lang': 'en'}\n",
      "{'_id': ObjectId('67e3768d403e94bf2ce09471'), 'lang': 'en'}\n",
      "{'_id': ObjectId('67e3768d403e94bf2ce09472'), 'lang': 'en'}\n",
      "{'_id': ObjectId('67e3768d403e94bf2ce09473'), 'lang': 'en'}\n",
      "{'_id': ObjectId('67e3768d403e94bf2ce09474'), 'lang': 'en'}\n",
      "{'_id': ObjectId('67e3768d403e94bf2ce09475'), 'lang': 'en'}\n",
      "{'_id': ObjectId('67e3768d403e94bf2ce09476'), 'lang': 'en'}\n",
      "{'_id': ObjectId('67e3768d403e94bf2ce09477'), 'lang': 'en'}\n",
      "{'_id': ObjectId('67e3768d403e94bf2ce09478'), 'lang': 'en'}\n",
      "{'_id': ObjectId('67e3768d403e94bf2ce09479'), 'lang': 'en'}\n",
      "{'_id': ObjectId('67e3768d403e94bf2ce0947a'), 'lang': 'en'}\n",
      "{'_id': ObjectId('67e3768d403e94bf2ce0947b'), 'lang': 'en'}\n",
      "{'_id': ObjectId('67e3768d403e94bf2ce0947c'), 'lang': 'en'}\n",
      "{'_id': ObjectId('67e3768d403e94bf2ce0947d'), 'lang': 'en'}\n",
      "{'_id': ObjectId('67e3768d403e94bf2ce0947e'), 'lang': 'en'}\n",
      "{'_id': ObjectId('67e3768d403e94bf2ce0947f'), 'lang': 'en'}\n",
      "{'_id': ObjectId('67e3768d403e94bf2ce09480'), 'lang': 'en'}\n",
      "{'_id': ObjectId('67e3768d403e94bf2ce09481'), 'lang': 'en'}\n",
      "{'_id': ObjectId('67e3768d403e94bf2ce09482'), 'lang': 'en'}\n",
      "{'_id': ObjectId('67e3768d403e94bf2ce09483'), 'lang': 'en'}\n",
      "{'_id': ObjectId('67e3768d403e94bf2ce09484'), 'lang': 'en'}\n",
      "{'_id': ObjectId('67e3768d403e94bf2ce09485'), 'lang': 'en'}\n",
      "{'_id': ObjectId('67e3768d403e94bf2ce09486'), 'lang': 'en'}\n",
      "{'_id': ObjectId('67e3768d403e94bf2ce09487'), 'lang': 'en'}\n",
      "{'_id': ObjectId('67e3768d403e94bf2ce09488'), 'lang': 'en'}\n",
      "{'_id': ObjectId('67e3768d403e94bf2ce09489'), 'lang': 'en'}\n",
      "{'_id': ObjectId('67e3768d403e94bf2ce0948a'), 'lang': 'en'}\n",
      "{'_id': ObjectId('67e3768d403e94bf2ce0948b'), 'lang': 'en'}\n",
      "{'_id': ObjectId('67e3768d403e94bf2ce0948c'), 'lang': 'en'}\n",
      "{'_id': ObjectId('67e3768d403e94bf2ce0948e'), 'lang': 'en'}\n",
      "{'_id': ObjectId('67e3768d403e94bf2ce0948f'), 'lang': 'en'}\n",
      "{'_id': ObjectId('67e3768d403e94bf2ce09490'), 'lang': 'en'}\n",
      "{'_id': ObjectId('67e3768d403e94bf2ce09491'), 'lang': 'en'}\n",
      "{'_id': ObjectId('67e3768d403e94bf2ce09492'), 'lang': 'en'}\n",
      "{'_id': ObjectId('67e3768d403e94bf2ce09493'), 'lang': 'en'}\n",
      "{'_id': ObjectId('67e3768d403e94bf2ce09494'), 'lang': 'en'}\n",
      "{'_id': ObjectId('67e3768d403e94bf2ce09495'), 'lang': 'en'}\n",
      "{'_id': ObjectId('67e3768d403e94bf2ce09496'), 'lang': 'en'}\n",
      "{'_id': ObjectId('67e3768d403e94bf2ce09497'), 'lang': 'en'}\n",
      "{'_id': ObjectId('67e3768d403e94bf2ce09498'), 'lang': 'en'}\n",
      "{'_id': ObjectId('67e3768d403e94bf2ce09499'), 'lang': 'en'}\n",
      "{'_id': ObjectId('67e3768d403e94bf2ce0949a'), 'lang': 'en'}\n",
      "{'_id': ObjectId('67e3768d403e94bf2ce0949b'), 'lang': 'en'}\n",
      "{'_id': ObjectId('67e3768d403e94bf2ce0949c'), 'lang': 'en'}\n",
      "{'_id': ObjectId('67e3768d403e94bf2ce0949d'), 'lang': 'en'}\n",
      "{'_id': ObjectId('67e3768d403e94bf2ce0949e'), 'lang': 'en'}\n",
      "{'_id': ObjectId('67e3768d403e94bf2ce0949f'), 'lang': 'en'}\n",
      "{'_id': ObjectId('67e3768d403e94bf2ce094a0'), 'lang': 'en'}\n",
      "{'_id': ObjectId('67e3768d403e94bf2ce094a1'), 'lang': 'en'}\n",
      "{'_id': ObjectId('67e3768d403e94bf2ce094a2'), 'lang': 'en'}\n",
      "{'_id': ObjectId('67e3768d403e94bf2ce094a3'), 'lang': 'en'}\n",
      "{'_id': ObjectId('67e3768d403e94bf2ce094a4'), 'lang': 'en'}\n",
      "{'_id': ObjectId('67e3768d403e94bf2ce094a5'), 'lang': 'en'}\n",
      "{'_id': ObjectId('67e3768d403e94bf2ce094a6'), 'lang': 'en'}\n",
      "{'_id': ObjectId('67e3768d403e94bf2ce094a7'), 'lang': 'en'}\n",
      "{'_id': ObjectId('67e3768d403e94bf2ce094a8'), 'lang': 'en'}\n",
      "{'_id': ObjectId('67e3768d403e94bf2ce094a9'), 'lang': 'en'}\n",
      "{'_id': ObjectId('67e3768d403e94bf2ce094aa'), 'lang': 'en'}\n",
      "{'_id': ObjectId('67e3768d403e94bf2ce094ab'), 'lang': 'en'}\n",
      "{'_id': ObjectId('67e3768d403e94bf2ce094ac'), 'lang': 'en'}\n",
      "{'_id': ObjectId('67e3768d403e94bf2ce094ad'), 'lang': 'en'}\n",
      "{'_id': ObjectId('67e3768d403e94bf2ce094ae'), 'lang': 'en'}\n",
      "{'_id': ObjectId('67e3768d403e94bf2ce094af'), 'lang': 'en'}\n",
      "{'_id': ObjectId('67e3768d403e94bf2ce094b0'), 'lang': 'en'}\n",
      "{'_id': ObjectId('67e3768d403e94bf2ce094b1'), 'lang': 'en'}\n",
      "{'_id': ObjectId('67e3768d403e94bf2ce094b2'), 'lang': 'en'}\n",
      "{'_id': ObjectId('67e3768d403e94bf2ce094b3'), 'lang': 'en'}\n",
      "{'_id': ObjectId('67e3768d403e94bf2ce094b4'), 'lang': 'en'}\n",
      "{'_id': ObjectId('67e3768d403e94bf2ce094b5'), 'lang': 'en'}\n",
      "{'_id': ObjectId('67e3768d403e94bf2ce094b6'), 'lang': 'en'}\n",
      "{'_id': ObjectId('67e3768d403e94bf2ce094b7'), 'lang': 'en'}\n",
      "{'_id': ObjectId('67e3768d403e94bf2ce094b8'), 'lang': 'en'}\n",
      "{'_id': ObjectId('67e3768d403e94bf2ce094b9'), 'lang': 'en'}\n",
      "{'_id': ObjectId('67e3768d403e94bf2ce094ba'), 'lang': 'en'}\n",
      "{'_id': ObjectId('67e3768d403e94bf2ce094bb'), 'lang': 'en'}\n",
      "{'_id': ObjectId('67e3768d403e94bf2ce094bc'), 'lang': 'en'}\n",
      "{'_id': ObjectId('67e3768d403e94bf2ce094bd'), 'lang': 'en'}\n",
      "{'_id': ObjectId('67e3768d403e94bf2ce094be'), 'lang': 'en'}\n",
      "{'_id': ObjectId('67e3768d403e94bf2ce094bf'), 'lang': 'en'}\n",
      "{'_id': ObjectId('67e3768d403e94bf2ce094c0'), 'lang': 'en'}\n",
      "{'_id': ObjectId('67e3768d403e94bf2ce094c1'), 'lang': 'en'}\n",
      "{'_id': ObjectId('67e3768d403e94bf2ce094c2'), 'lang': 'en'}\n",
      "{'_id': ObjectId('67e3768d403e94bf2ce094c3'), 'lang': 'en'}\n",
      "{'_id': ObjectId('67e3768d403e94bf2ce094c4'), 'lang': 'en'}\n",
      "{'_id': ObjectId('67e3768d403e94bf2ce094c5'), 'lang': 'en'}\n",
      "{'_id': ObjectId('67e3768d403e94bf2ce094c6'), 'lang': 'en'}\n",
      "{'_id': ObjectId('67e3768d403e94bf2ce094c7'), 'lang': 'en'}\n",
      "{'_id': ObjectId('67e3768d403e94bf2ce094c8'), 'lang': 'en'}\n",
      "{'_id': ObjectId('67e3768d403e94bf2ce094c9'), 'lang': 'en'}\n",
      "{'_id': ObjectId('67e3768d403e94bf2ce094ca'), 'lang': 'en'}\n",
      "{'_id': ObjectId('67e3768d403e94bf2ce094cb'), 'lang': 'en'}\n",
      "{'_id': ObjectId('67e3768d403e94bf2ce094cc'), 'lang': 'en'}\n",
      "{'_id': ObjectId('67e3768d403e94bf2ce094cd'), 'lang': 'en'}\n",
      "{'_id': ObjectId('67e3768d403e94bf2ce094ce'), 'lang': 'en'}\n",
      "{'_id': ObjectId('67e3768d403e94bf2ce094cf'), 'lang': 'en'}\n",
      "{'_id': ObjectId('67e3768d403e94bf2ce094d0'), 'lang': 'en'}\n",
      "{'_id': ObjectId('67e3768d403e94bf2ce094d1'), 'lang': 'en'}\n",
      "{'_id': ObjectId('67e3768d403e94bf2ce094d2'), 'lang': 'en'}\n"
     ]
    }
   ],
   "source": [
    "# You need to find the ObjectIds in your data\n",
    "# For example, es is Spanish\n",
    "#db.weather.find({ lang: \"es\"}, {lang:1})\n",
    "langs = wcol.find({ 'lang': \"Replace_this_with_a_language_code\"}, {'lang':1})"
   ]
  },
  {
   "cell_type": "code",
   "execution_count": 78,
   "id": "12fb1bb9-8eb2-41bf-bc38-d780071c16da",
   "metadata": {},
   "outputs": [],
   "source": [
    "myObjectId = '67e100cb4245b488e87c52a6'"
   ]
  },
  {
   "cell_type": "code",
   "execution_count": 80,
   "id": "9843d249-a803-4634-bc25-7596fbfd35d0",
   "metadata": {},
   "outputs": [],
   "source": [
    "# update One record to change the User's lanuage to the full name\n",
    "# db.weather.find ({ _id: ObjectId(\"myObjectID\")}, {lang: 1}).pretty()\n",
    "# check the record first:\n",
    "tweet = wcol.find( { '_id': ObjectId(myObjectId)}, {'lang':1} )\n",
    "printTweets(tweet)"
   ]
  },
  {
   "cell_type": "code",
   "execution_count": 81,
   "id": "2b46c6a6-cfd4-44ee-b392-2fa27de9a12a",
   "metadata": {},
   "outputs": [
    {
     "name": "stdout",
     "output_type": "stream",
     "text": [
      "Match count:  0\n",
      "Modified count:  0\n",
      "<class 'pymongo.results.UpdateResult'>\n"
     ]
    }
   ],
   "source": [
    "# Replace with the full language, for example, to replace es with Spanish would␣be:\n",
    "#db.weather.update({ _id: ObjectId(\"myObjectID\") }, {$set: {'lang':␣'Spanish'}})\n",
    "# Syntax difference: update command is depreciated in Python.\n",
    "# Need to use either: update_one, replace_one or update_many\n",
    "# Just updating one record here, so use update_one and replace myObjectId with␣ one of your own ids:\n",
    "updateResult = wcol.update_one({ '_id': ObjectId(myObjectId) }, {'$set': {'lang': 'English'}})\n",
    "printResult(updateResult)"
   ]
  },
  {
   "cell_type": "code",
   "execution_count": 82,
   "id": "092baf8f-604f-4995-8f55-6e14e0390f70",
   "metadata": {},
   "outputs": [],
   "source": [
    "# Check if updated:\n",
    "tweet= wcol.find( { '_id': ObjectId(myObjectId)}, {'lang':1} )\n",
    "printTweets(tweet)"
   ]
  },
  {
   "cell_type": "code",
   "execution_count": 83,
   "id": "6fc2d6cf-a034-4fa6-9459-51dd491a82d8",
   "metadata": {},
   "outputs": [
    {
     "name": "stdout",
     "output_type": "stream",
     "text": [
      "Match count:  13\n",
      "Modified count:  13\n",
      "<class 'pymongo.results.UpdateResult'>\n"
     ]
    }
   ],
   "source": [
    "# Change documents where the language is undecided (und) to say unknown:\n",
    "updateResult = wcol.update_many({ 'lang': \"und\" }, {'$set': {'lang':'unknown'}})\n",
    "printResult(updateResult)"
   ]
  },
  {
   "cell_type": "code",
   "execution_count": 84,
   "id": "b264d004-216c-4b57-99c5-8327000fb136",
   "metadata": {},
   "outputs": [
    {
     "name": "stdout",
     "output_type": "stream",
     "text": [
      "{'user': {'location': 'Weston-super-Mare, England'}}\n",
      "{'user': {'location': 'Coleford, England'}}\n",
      "{'user': {'location': 'Eastbourne, England'}}\n",
      "{'user': {'location': 'NW England'}}\n",
      "{'user': {'location': 'Bristol, England'}}\n",
      "{'user': {'location': 'Hertfordshire, England (previously Minnesota, USA) #TheResistance'}}\n",
      "{'user': {'location': 'London, England'}}\n",
      "{'user': {'location': 'England, United Kingdom 🇬🇧 '}}\n",
      "{'user': {'location': 'Rugby, England'}}\n",
      "{'user': {'location': 'Birmingham, England'}}\n",
      "{'user': {'location': 'Tyneside, North East England'}}\n",
      "{'user': {'location': 'England, United Kingdom'}}\n",
      "{'user': {'location': 'Eastbourne, England'}}\n",
      "{'user': {'location': 'Eastbourne, England'}}\n",
      "{'user': {'location': 'Peterborough, England'}}\n",
      "{'user': {'location': 'Peterborough, England'}}\n",
      "{'user': {'location': 'Bristol, England'}}\n",
      "{'user': {'location': 'Great Yarmouth, England'}}\n",
      "{'user': {'location': 'South coast england '}}\n",
      "{'user': {'location': 'Wylye, England'}}\n",
      "{'user': {'location': 'Great Yarmouth, England'}}\n",
      "{'user': {'location': 'Southwest, England'}}\n",
      "{'user': {'location': 'Southeast England'}}\n",
      "{'user': {'location': 'Otley, England'}}\n",
      "{'user': {'location': 'London, England'}}\n",
      "{'user': {'location': 'Huddersfield, England'}}\n",
      "{'user': {'location': 'England, United Kingdom'}}\n",
      "{'user': {'location': 'Barrow-in-Furness, England'}}\n"
     ]
    }
   ],
   "source": [
    "# Want all the English locations to just say UK\n",
    "tweets = wcol.find( { 'user.location': {'$regex':'England','$options': 'i'}},{'user.location':1, '_id':0} )\n",
    "printTweets(tweets)"
   ]
  },
  {
   "cell_type": "code",
   "execution_count": 85,
   "id": "c9db3689-da33-48b3-a8d6-0f6a6786fbdd",
   "metadata": {},
   "outputs": [
    {
     "name": "stdout",
     "output_type": "stream",
     "text": [
      "Match count:  28\n",
      "Modified count:  28\n",
      "<class 'pymongo.results.UpdateResult'>\n"
     ]
    }
   ],
   "source": [
    "# db.weather.updateMany({ 'user.location': {$regex:'England',$options: 'i' }} ,{$set: {'user.location': 'UK'}})\n",
    "# Syntax difference: update updateMany() is replaced by update_many()\n",
    "# Note: there is no option to ROLLBACK the update!\n",
    "updateResult = wcol.update_many({ 'user.location': {'$regex':'England','$options': 'i' }} , {'$set': {'user.location': 'UK'}})\n",
    "printResult(updateResult)"
   ]
  },
  {
   "cell_type": "code",
   "execution_count": 86,
   "id": "6e7569f5-68a7-41a6-a4a7-5f48c79bcc8d",
   "metadata": {},
   "outputs": [
    {
     "name": "stdout",
     "output_type": "stream",
     "text": [
      "{'user': {'location': 'UK'}}\n",
      "{'user': {'location': 'Wales UK'}}\n",
      "{'user': {'location': 'UK'}}\n",
      "{'user': {'location': 'Uk, Doncaster, South Yorkshire'}}\n",
      "{'user': {'location': 'Barrybados-Cardiff-Cymru-UK'}}\n",
      "{'user': {'location': 'UK'}}\n",
      "{'user': {'location': 'UK'}}\n",
      "{'user': {'location': 'Surrey UK '}}\n",
      "{'user': {'location': 'UK'}}\n",
      "{'user': {'location': 'UK'}}\n",
      "{'user': {'location': 'UK'}}\n",
      "{'user': {'location': 'UK'}}\n",
      "{'user': {'location': '#DearneValley S.Yorkshire - UK'}}\n",
      "{'user': {'location': 'Cornwall, UK'}}\n",
      "{'user': {'location': 'UK'}}\n",
      "{'user': {'location': 'UK'}}\n",
      "{'user': {'location': 'Bristol UK'}}\n",
      "{'user': {'location': 'UK'}}\n",
      "{'user': {'location': 'On a bike, somewhere in the UK'}}\n",
      "{'user': {'location': 'UK'}}\n",
      "{'user': {'location': 'Northamptonshire, UK'}}\n",
      "{'user': {'location': 'UK'}}\n",
      "{'user': {'location': 'UK'}}\n",
      "{'user': {'location': 'UK'}}\n",
      "{'user': {'location': 'Bristol UK'}}\n",
      "{'user': {'location': 'UK'}}\n",
      "{'user': {'location': 'UK'}}\n",
      "{'user': {'location': 'UK'}}\n",
      "{'user': {'location': 'uk'}}\n",
      "{'user': {'location': 'UK'}}\n",
      "{'user': {'location': 'UK'}}\n",
      "{'user': {'location': 'Strawberry Hill, Twickenham,UK'}}\n",
      "{'user': {'location': 'Norwich, Norfolk, UK'}}\n",
      "{'user': {'location': 'UK'}}\n",
      "{'user': {'location': 'UK'}}\n",
      "{'user': {'location': 'UK'}}\n",
      "{'user': {'location': 'UK'}}\n",
      "{'user': {'location': 'UK'}}\n",
      "{'user': {'location': 'UK'}}\n",
      "{'user': {'location': 'London, UK'}}\n",
      "{'user': {'location': 'UK'}}\n",
      "{'user': {'location': 'Manchester,UK'}}\n",
      "{'user': {'location': 'UK'}}\n",
      "{'user': {'location': 'UK'}}\n",
      "{'user': {'location': 'UK'}}\n",
      "{'user': {'location': 'UK'}}\n"
     ]
    }
   ],
   "source": [
    "# Check if updated:\n",
    "tweets = wcol.find( { 'user.location': {'$regex':'UK','$options': 'i' }},{'user.location':1, '_id':0} )\n",
    "printTweets(tweets)"
   ]
  },
  {
   "cell_type": "code",
   "execution_count": 87,
   "id": "7355b776-c1df-466c-819e-bddd826fcbc4",
   "metadata": {},
   "outputs": [
    {
     "data": {
      "text/plain": [
       "<pymongo.synchronous.command_cursor.CommandCursor at 0x256591a7680>"
      ]
     },
     "execution_count": 87,
     "metadata": {},
     "output_type": "execute_result"
    }
   ],
   "source": [
    "# Reduce the number of columns in a collection\n",
    "# Creating a new collection with just 2 selected fields: user.location and the␣ text.\n",
    "\"\"\"db.weather.aggregate([\n",
    "{$project:{\"user.location\":1, text:1}},\n",
    "{$out:\"projWeather\"}\n",
    "])\n",
    "\"\"\"\n",
    "# Syntax difference: the various parameters must be in quotes\n",
    "wcol.aggregate([\n",
    "{'$project':{\"user.location\":1, 'text':1}},\n",
    "{'$out':\"projWeather\"}\n",
    "])"
   ]
  },
  {
   "cell_type": "code",
   "execution_count": 88,
   "id": "592077c9-3769-4c78-9e9e-dac715da2e19",
   "metadata": {},
   "outputs": [
    {
     "name": "stdout",
     "output_type": "stream",
     "text": [
      "{'_id': ObjectId('67e3768d403e94bf2ce093d9'), 'text': '@owz09 @DerekTheWeather @bbcweather @BBCWalesToday @BBCRadioWales 😁', 'user': {'location': 'Wales'}}\n",
      "{'_id': ObjectId('67e3768d403e94bf2ce093da'), 'text': '@Lillybetmax @VisitCairngrms @VisitScotland @ScotsMagazine @BBCSpringwatch @uknationalparks @bbcweather @metoffice… https://t.co/NcYieNDbRs', 'user': {'location': 'Highlands of Scotland'}}\n",
      "{'_id': ObjectId('67e3768d403e94bf2ce093db'), 'text': '@SGIRE82 @VisitCairngrms @VisitScotland @ScotsMagazine @BBCSpringwatch @uknationalparks @bbcweather @metoffice @BBCEarth @BBCOutofDoors 🙏😊👍', 'user': {'location': 'Highlands of Scotland'}}\n",
      "{'_id': ObjectId('67e3768d403e94bf2ce093dc'), 'text': 'RT @therileyshot: Some nice colours this morning whilst I have my morning breakfast battle with the little munchkin! Have a fab week everyo…', 'user': {'location': 'Utah'}}\n",
      "{'_id': ObjectId('67e3768d403e94bf2ce093dd'), 'text': 'Como que 2/3? ya porfavorrr solo quiero ver el sol https://t.co/DdwNtd84TR', 'user': {'location': ''}}\n",
      "{'_id': ObjectId('67e3768d403e94bf2ce093de'), 'text': '@highland_andy @VisitCairngrms @VisitScotland @ScotsMagazine @BBCSpringwatch @uknationalparks @bbcweather… https://t.co/rblo0HfOC5', 'user': {'location': \"God's Own County \"}}\n",
      "{'_id': ObjectId('67e3768d403e94bf2ce093df'), 'text': 'RT @DerekTheWeather: A powerful Jet Stream will propagate across the north Atlantic next week.\\n\\nStrong winds, gales, rain and wintry shower…', 'user': {'location': 'Wales'}}\n",
      "{'_id': ObjectId('67e3768d403e94bf2ce093e0'), 'text': 'RT @highland_andy: This image has to be viewed large to be appreciated.\\nTaken at 1/80th of a second to bigger the snow a hint of blur.\\n#red…', 'user': {'location': ''}}\n",
      "{'_id': ObjectId('67e3768d403e94bf2ce093e1'), 'text': 'RT @DerekTheWeather: A powerful Jet Stream will propagate across the north Atlantic next week.\\n\\nStrong winds, gales, rain and wintry shower…', 'user': {'location': 'United Kingdom'}}\n",
      "{'_id': ObjectId('67e3768d403e94bf2ce093e2'), 'text': 'This image has to be viewed large to be appreciated.\\nTaken at 1/80th of a second to bigger the snow a hint of blur.… https://t.co/ltBfN1nz7c', 'user': {'location': 'Highlands of Scotland'}}\n",
      "{'_id': ObjectId('67e3768d403e94bf2ce093e3'), 'text': '@DerekTheWeather @bbcweather @BBCWalesToday @BBCRadioWales Maybe get a chance to put the winter tyres to test....at last ☃️🤔😂', 'user': {'location': 'Hawarden, Wales'}}\n",
      "{'_id': ObjectId('67e3768d403e94bf2ce093e4'), 'text': 'RT @frasergj: A sunny day at @StirUni this afternoon....until the wind picked up, blowing rain clouds over #Stirling (3/2) #WeatherWatcherG…', 'user': {'location': 'UK'}}\n",
      "{'_id': ObjectId('67e3768d403e94bf2ce093e5'), 'text': 'RT @DerekTheWeather: A powerful Jet Stream will propagate across the north Atlantic next week.\\n\\nStrong winds, gales, rain and wintry shower…', 'user': {'location': 'Pembrokeshire'}}\n",
      "{'_id': ObjectId('67e3768d403e94bf2ce093e6'), 'text': '@sotcstill @OldDublinTown @LovinDublin @DublinTown @VisitDublin @dublin @deric_tv @TourismIreland @PictureIreland… https://t.co/98VF1BfGCm', 'user': {'location': 'Wicklow, Ireland'}}\n",
      "{'_id': ObjectId('67e3768d403e94bf2ce093e7'), 'text': '@DerekTheWeather @bbcweather @BBCWalesToday @BBCRadioWales Ooohhj ! Severe wind 😮', 'user': {'location': 'Wales UK'}}\n",
      "{'_id': ObjectId('67e3768d403e94bf2ce093e8'), 'text': 'RT @DerekTheWeather: A powerful Jet Stream will propagate across the north Atlantic next week.\\n\\nStrong winds, gales, rain and wintry shower…', 'user': {'location': 'West Wales'}}\n",
      "{'_id': ObjectId('67e3768d403e94bf2ce093e9'), 'text': 'RT @DerekTheWeather: A powerful Jet Stream will propagate across the north Atlantic next week.\\n\\nStrong winds, gales, rain and wintry shower…', 'user': {'location': 'Wales'}}\n",
      "{'_id': ObjectId('67e3768d403e94bf2ce093ea'), 'text': '@DerekTheWeather @bbcweather @BBCWalesToday @BBCRadioWales Oh dear! No sign of a cold snap then ? ❄️☃️', 'user': {'location': 'Llanmadoc'}}\n",
      "{'_id': ObjectId('67e3768d403e94bf2ce093eb'), 'text': 'RT @DerekTheWeather: A powerful Jet Stream will propagate across the north Atlantic next week.\\n\\nStrong winds, gales, rain and wintry shower…', 'user': {'location': 'Wales, United Kingdom'}}\n",
      "{'_id': ObjectId('67e3768d403e94bf2ce093ec'), 'text': '@DerekTheWeather @bbcweather @BBCWalesToday @BBCRadioWales Those iso bars are quite close 😱', 'user': {'location': 'Wales'}}\n",
      "{'_id': ObjectId('67e3768d403e94bf2ce093ed'), 'text': 'RT @DerekTheWeather: A powerful Jet Stream will propagate across the north Atlantic next week.\\n\\nStrong winds, gales, rain and wintry shower…', 'user': {'location': 'UK'}}\n",
      "{'_id': ObjectId('67e3768d403e94bf2ce093ee'), 'text': 'RT @DerekTheWeather: A powerful Jet Stream will propagate across the north Atlantic next week.\\n\\nStrong winds, gales, rain and wintry shower…', 'user': {'location': '🏴\\U000e0067\\U000e0062\\U000e0077\\U000e006c\\U000e0073\\U000e007f'}}\n",
      "{'_id': ObjectId('67e3768d403e94bf2ce093ef'), 'text': 'RT @DerekTheWeather: A powerful Jet Stream will propagate across the north Atlantic next week.\\n\\nStrong winds, gales, rain and wintry shower…', 'user': {'location': 'Uk, Doncaster, South Yorkshire'}}\n",
      "{'_id': ObjectId('67e3768d403e94bf2ce093f0'), 'text': 'RT @DerekTheWeather: A powerful Jet Stream will propagate across the north Atlantic next week.\\n\\nStrong winds, gales, rain and wintry shower…', 'user': {'location': 'Cardiff, Wales'}}\n",
      "{'_id': ObjectId('67e3768d403e94bf2ce093f1'), 'text': 'RT @frasergj: After a sunny start around #Stirling winds blowing rain clouds across (3/2) #WeatherWatcherGraham @BBCScotWeather @BBCAimsir…', 'user': {'location': 'Scotland'}}\n",
      "{'_id': ObjectId('67e3768d403e94bf2ce093f2'), 'text': 'A powerful Jet Stream will propagate across the north Atlantic next week.\\n\\nStrong winds, gales, rain and wintry sho… https://t.co/dpuy63UoBJ', 'user': {'location': 'Barrybados-Cardiff-Cymru-UK'}}\n",
      "{'_id': ObjectId('67e3768d403e94bf2ce093f3'), 'text': 'RT @frasergj: A sunny day at @StirUni this afternoon....until the wind picked up, blowing rain clouds over #Stirling (3/2) #WeatherWatcherG…', 'user': {'location': 'Central Scotland'}}\n",
      "{'_id': ObjectId('67e3768d403e94bf2ce093f4'), 'text': 'Wicklow Harbour, Ireland\\n@visitwicklow @WicklowTownTeam  @Welcome2Wicklow @WicklowThisWeek @PictureIreland… https://t.co/oSIZvAntbG', 'user': {'location': 'Wicklow, Ireland'}}\n",
      "{'_id': ObjectId('67e3768d403e94bf2ce093f5'), 'text': '@hugysmum @metoffice @bbcweather @SallyWeather @itvweather @SimonOKing @StormHour @ThePhotoHour It’s a bird! Thank… https://t.co/FTkAGboel2', 'user': {'location': 'Twickenham, Greater London'}}\n",
      "{'_id': ObjectId('67e3768d403e94bf2ce093f6'), 'text': '@WAWilliams15 @DerekTheWeather @bbcweather @BBCWalesToday @BBCRadioWales ISO bars? Are they protein bars, they sound nice 😋 😉', 'user': {'location': 'Ammanford,wales'}}\n",
      "{'_id': ObjectId('67e3768d403e94bf2ce093f7'), 'text': 'RT @DerekTheWeather: A powerful Jet Stream will propagate across the north Atlantic next week.\\n\\nStrong winds, gales, rain and wintry shower…', 'user': {'location': ''}}\n",
      "{'_id': ObjectId('67e3768d403e94bf2ce093f8'), 'text': '@hugysmum @metoffice @bbcweather @SallyWeather @itvweather @SimonOKing @StormHour @ThePhotoHour 🦅', 'user': {'location': 'Twickenham, Greater London'}}\n",
      "{'_id': ObjectId('67e3768d403e94bf2ce093f9'), 'text': 'RT @highland_andy: This image has to be viewed large to be appreciated.\\nTaken at 1/80th of a second to bigger the snow a hint of blur.\\n#red…', 'user': {'location': 'Cairngorms'}}\n",
      "{'_id': ObjectId('67e3768d403e94bf2ce093fa'), 'text': '@bbcweather 27 degrees across Northwest Italy too.', 'user': {'location': ''}}\n",
      "{'_id': ObjectId('67e3768d403e94bf2ce093fb'), 'text': 'RT @AbhaPaulina: Beautiful 1st of February on the shores of Loch Lomond #scotland #beautifulday #PictureOfTheDay @VisitScotland @bbcweather…', 'user': {'location': 'Buckingham '}}\n",
      "{'_id': ObjectId('67e3768d403e94bf2ce093fc'), 'text': 'RT @DerekTheWeather: A powerful Jet Stream will propagate across the north Atlantic next week.\\n\\nStrong winds, gales, rain and wintry shower…', 'user': {'location': 'Swansea, Wales'}}\n",
      "{'_id': ObjectId('67e3768d403e94bf2ce093fd'), 'text': 'RT @bbcweather: We are two thirds of the way through meteorological winter and some UK locations, including Kirkwall (Orkney), Weybourne (N…', 'user': {'location': 'Port Glasgow Inverclyde'}}\n",
      "{'_id': ObjectId('67e3768d403e94bf2ce093fe'), 'text': 'RT @frasergj: A sunny day at @StirUni this afternoon....until the wind picked up, blowing rain clouds over #Stirling (3/2) #WeatherWatcherG…', 'user': {'location': 'UK'}}\n",
      "{'_id': ObjectId('67e3768d403e94bf2ce093ff'), 'text': 'RT @simon_weather: Sunrise in Great Yarmouth @StormchaserUKEU @carlharlott @danholley @stormbell @Lowweather @TheSnowDreamer @iainG81 @MetR…', 'user': {'location': 'UK'}}\n",
      "{'_id': ObjectId('67e3768d403e94bf2ce09400'), 'text': 'RT @AbhaPaulina: Beautiful 1st of February on the shores of Loch Lomond #scotland #beautifulday #PictureOfTheDay @VisitScotland @bbcweather…', 'user': {'location': 'Surrey UK '}}\n",
      "{'_id': ObjectId('67e3768d403e94bf2ce09401'), 'text': 'RT @frasergj: After a sunny start around #Stirling winds blowing rain clouds across (3/2) #WeatherWatcherGraham @BBCScotWeather @BBCAimsir…', 'user': {'location': 'Glasgow'}}\n",
      "{'_id': ObjectId('67e3768d403e94bf2ce09402'), 'text': 'A blustery afternoon at @NostellNT @JonMitchellITV @kerriegosneyTV @itvweather @Hudsonweather @KeeleyDonovan… https://t.co/U7EErMbDdZ', 'user': {'location': ''}}\n",
      "{'_id': ObjectId('67e3768d403e94bf2ce09403'), 'text': '@AnjanaGadgil @Kate_Kinsella @BrownieLB_1 @SallyTaylor_tv @BBCWeather @BBCSWWeather @karenjane16ka @KeeleyDonovan… https://t.co/AD6We1sEct', 'user': {'location': 'Blackwood, Wales'}}\n",
      "{'_id': ObjectId('67e3768d403e94bf2ce09404'), 'text': '@bbcpointswest @bbcweather Portishead Marina https://t.co/5VDnw5Jf8x', 'user': {'location': 'UK'}}\n",
      "{'_id': ObjectId('67e3768d403e94bf2ce09405'), 'text': '@bbcweather has done me dirty today, light showers? What a load of crap', 'user': {'location': 'United Kingdom'}}\n",
      "{'_id': ObjectId('67e3768d403e94bf2ce09406'), 'text': '@frasergj @StirUni @BBCScotWeather @BBCAimsir @bbcweather @metoffice @BBCWthrWatchers @BBCCountryfile @BBCEarth… https://t.co/G10xHKL07y', 'user': {'location': ''}}\n",
      "{'_id': ObjectId('67e3768d403e94bf2ce09407'), 'text': 'RT @bbcweather: We are two thirds of the way through meteorological winter and some UK locations, including Kirkwall (Orkney), Weybourne (N…', 'user': {'location': 'Hemel Hempstead, East'}}\n",
      "{'_id': ObjectId('67e3768d403e94bf2ce09408'), 'text': 'RT @ruths_gallery: A touch of brightness on a dull grey #MondayAfternoon at #Twickenham @metoffice  @bbcweather  @SallyWeather @itvweather…', 'user': {'location': ''}}\n",
      "{'_id': ObjectId('67e3768d403e94bf2ce09409'), 'text': '@bbcweather https://t.co/7fIC2ysZCD', 'user': {'location': 'Brooklyn, NY'}}\n",
      "{'_id': ObjectId('67e3768d403e94bf2ce0940a'), 'text': 'RT @bbcweather: We are two thirds of the way through meteorological winter and some UK locations, including Kirkwall (Orkney), Weybourne (N…', 'user': {'location': 'UK'}}\n",
      "{'_id': ObjectId('67e3768d403e94bf2ce0940b'), 'text': 'RT @dunbar44: A stunning Rainbow over the Giants Causeway \\n\\n@GCausewayNT @nationaltrust @NationalTrustNI @newslineweather @barrabest @Disco…', 'user': {'location': ''}}\n",
      "{'_id': ObjectId('67e3768d403e94bf2ce0940c'), 'text': 'A chilly sunset in ryhill park @JonMitchellITV @kerriegosneyTV @itvweather @metoffice @BBCWthrWatchers @bbcweather… https://t.co/3kHPFOj7W2', 'user': {'location': ''}}\n",
      "{'_id': ObjectId('67e3768d403e94bf2ce0940d'), 'text': \"The BBC's haptic weather forecast machine lets you feel the weather\\n#BBCWeather #WeatherForecast @BBCNews… https://t.co/bdKLimhKjc\", 'user': {'location': 'London'}}\n",
      "{'_id': ObjectId('67e3768d403e94bf2ce0940e'), 'text': '@highland_andy @VisitCairngrms @VisitScotland @ScotsMagazine @BBCSpringwatch @uknationalparks @bbcweather… https://t.co/OAc67eH24Q', 'user': {'location': 'Ireland'}}\n",
      "{'_id': ObjectId('67e3768d403e94bf2ce0940f'), 'text': 'RT @secrethighlands: Not seen the falls so full of water before! Amazing!!#secrethighlands \\n#SaturdayMotivation #SaturdayMorning #waterfall…', 'user': {'location': ''}}\n",
      "{'_id': ObjectId('67e3768d403e94bf2ce09410'), 'text': 'RT @bbcweather: We are two thirds of the way through meteorological winter and some UK locations, including Kirkwall (Orkney), Weybourne (N…', 'user': {'location': ''}}\n",
      "{'_id': ObjectId('67e3768d403e94bf2ce09411'), 'text': '@ruths_gallery @metoffice @bbcweather @SallyWeather @itvweather @SimonOKing @StormHour @ThePhotoHour 😱😱😱😱', 'user': {'location': 'Belfast, Northern Ireland'}}\n",
      "{'_id': ObjectId('67e3768d403e94bf2ce09412'), 'text': '@lana_preston @StirUni @BBCScotWeather @BBCAimsir @bbcweather @metoffice @BBCWthrWatchers @BBCCountryfile @BBCEarth… https://t.co/48dWvHyDcT', 'user': {'location': 'Stirling, Scotland'}}\n",
      "{'_id': ObjectId('67e3768d403e94bf2ce09413'), 'text': 'RT @bbcweather: We are two thirds of the way through meteorological winter and some UK locations, including Kirkwall (Orkney), Weybourne (N…', 'user': {'location': 'Glasgow'}}\n",
      "{'_id': ObjectId('67e3768d403e94bf2ce09414'), 'text': 'RT @StiofanNutty: Extraordinary temperatures being recorded today across France &amp; Spain. Again highlighting the extent &amp;widespread nature o…', 'user': {'location': 'Italy'}}\n",
      "{'_id': ObjectId('67e3768d403e94bf2ce09415'), 'text': 'RT @chris_alpacas: A grey day at the river side in St Ives, Cambridgeshire @metoffice @ChrisPage90 @WeatherAisling @itvanglia @bbcweather @…', 'user': {'location': ''}}\n",
      "{'_id': ObjectId('67e3768d403e94bf2ce09416'), 'text': '@bbcweather Blimey!!!! 🥶🥶🥶 https://t.co/zG2gaYZeO2', 'user': {'location': 'UK'}}\n",
      "{'_id': ObjectId('67e3768d403e94bf2ce09417'), 'text': '@bbcweather @BBCScotWeather We have some fairly brisk air in Kirkwall today anyway - not much chance of frost I suspect 🤣', 'user': {'location': 'Grimbister, Kirkwall, Orkney, Scotland'}}\n",
      "{'_id': ObjectId('67e3768d403e94bf2ce09418'), 'text': 'RT @bbcweather: Major motorway closed and residents in Canberra region told to seek shelter from out of control bushfires. Hot and windy co…', 'user': {'location': ''}}\n",
      "{'_id': ObjectId('67e3768d403e94bf2ce09419'), 'text': 'Kirkwall bay, oh bonny Kirkwall bay... looking a bit lively tonight... https://t.co/Cqk6D2OOkT https://t.co/LM4nMCgQXw', 'user': {'location': 'Kirkwall'}}\n",
      "{'_id': ObjectId('67e3768d403e94bf2ce0941a'), 'text': 'RT @bbcweather: We are two thirds of the way through meteorological winter and some UK locations, including Kirkwall (Orkney), Weybourne (N…', 'user': {'location': ''}}\n",
      "{'_id': ObjectId('67e3768d403e94bf2ce0941b'), 'text': 'RT @bbcweather: We are two thirds of the way through meteorological winter and some UK locations, including Kirkwall (Orkney), Weybourne (N…', 'user': {'location': ''}}\n",
      "{'_id': ObjectId('67e3768d403e94bf2ce0941c'), 'text': '#sunset over #m6n #rushhour @bbcmtd @bbcweather Birmingham https://t.co/xfmiSqR0u3', 'user': {'location': 'Coventry, West Midlands'}}\n",
      "{'_id': ObjectId('67e3768d403e94bf2ce0941d'), 'text': 'RT @bbcweather: We are two thirds of the way through meteorological winter and some UK locations, including Kirkwall (Orkney), Weybourne (N…', 'user': {'location': 'Edinburgh'}}\n",
      "{'_id': ObjectId('67e3768d403e94bf2ce0941e'), 'text': 'RT @bbcweather: We are two thirds of the way through meteorological winter and some UK locations, including Kirkwall (Orkney), Weybourne (N…', 'user': {'location': 'Pacific Quay, Glasgow'}}\n",
      "{'_id': ObjectId('67e3768d403e94bf2ce0941f'), 'text': 'RT @bbcweather: We are two thirds of the way through meteorological winter and some UK locations, including Kirkwall (Orkney), Weybourne (N…', 'user': {'location': ''}}\n",
      "{'_id': ObjectId('67e3768d403e94bf2ce09420'), 'text': 'Extraordinary temperatures being recorded today across France &amp; Spain. Again highlighting the extent &amp;widespread na… https://t.co/4zjuXQcvF5', 'user': {'location': 'Átha Cliath'}}\n",
      "{'_id': ObjectId('67e3768d403e94bf2ce09421'), 'text': '@bbcweather Hope the trend stays for the weekend..', 'user': {'location': 'south Greater Manchester'}}\n",
      "{'_id': ObjectId('67e3768d403e94bf2ce09422'), 'text': 'RT @bbcweather: AUSTRALIA: New South Wales and ACT experienced the worst of the #heatwave on Saturday\\n\\nCanberra had its hottest day on reco…', 'user': {'location': ''}}\n",
      "{'_id': ObjectId('67e3768d403e94bf2ce09423'), 'text': 'A sunny day at @StirUni this afternoon....until the wind picked up, blowing rain clouds over #Stirling (3/2)… https://t.co/nkyHmHar8d', 'user': {'location': 'Stirling, Scotland'}}\n",
      "{'_id': ObjectId('67e3768d403e94bf2ce09424'), 'text': '@bbcweather The ocean always helps lol.', 'user': {'location': 'Dungeon Master '}}\n",
      "{'_id': ObjectId('67e3768d403e94bf2ce09425'), 'text': 'RT @frasergj: After a sunny start around #Stirling winds blowing rain clouds across (3/2) #WeatherWatcherGraham @BBCScotWeather @BBCAimsir…', 'user': {'location': 'Edinburgh, Scotland'}}\n",
      "{'_id': ObjectId('67e3768d403e94bf2ce09426'), 'text': 'RT @Ichabodus: Holbeach Hurn #Lincolnshire\\n@LincsSkies\\n \\n@EarthandClouds2 @StormHour @cloudymamma @BBCWthrWatchers @bbcweather @spaldingtod…', 'user': {'location': 'Collinsville, VA'}}\n",
      "{'_id': ObjectId('67e3768d403e94bf2ce09427'), 'text': 'RT @Ichabodus: Holbeach Hurn #Lincolnshire\\nStraight out of the camera. #sooc\\n@LincsSkies\\n \\n@EarthandClouds2 @StormHour @cloudymamma @BBCWth…', 'user': {'location': 'Collinsville, VA'}}\n",
      "{'_id': ObjectId('67e3768d403e94bf2ce09428'), 'text': '@Official_WXUK @bbcweather The air temperature at ground level must be 0° to cause the ice crystals on the surface to form?', 'user': {'location': ''}}\n",
      "{'_id': ObjectId('67e3768d403e94bf2ce09429'), 'text': '@StevePayne2018 @bbcweather Ah! Global warming? Not ideal, but the line of business I’m in I don’t like the cold wi… https://t.co/loXcBsUdEM', 'user': {'location': 'Dundee, Scotland'}}\n",
      "{'_id': ObjectId('67e3768d403e94bf2ce0942a'), 'text': '@bbcweather Camborne in Cornwall as well I believe 👍', 'user': {'location': 'Penzance, Cornwall '}}\n",
      "{'_id': ObjectId('67e3768d403e94bf2ce0942b'), 'text': '@TravelwithPOwer @ThePhotoHour @metoffice @bbcweather @SallyWeather @itvweather @SimonOKing @StormHour Thank you', 'user': {'location': 'Twickenham, Greater London'}}\n",
      "{'_id': ObjectId('67e3768d403e94bf2ce0942c'), 'text': '@MickeyJPrior @bbcweather Air frost occurs when the air temp at 2 metres reaches -0°C. A ground frost can occur wit… https://t.co/JvVoEUQla3', 'user': {'location': 'Penzance, Cornwall '}}\n",
      "{'_id': ObjectId('67e3768d403e94bf2ce0942d'), 'text': 'Holbeach Hurn #Lincolnshire\\nStraight out of the camera. #sooc\\n@LincsSkies\\n \\n@EarthandClouds2 @StormHour… https://t.co/jY5pgftA9R', 'user': {'location': ''}}\n",
      "{'_id': ObjectId('67e3768d403e94bf2ce0942e'), 'text': 'Holbeach Hurn #Lincolnshire\\n@LincsSkies\\n \\n@EarthandClouds2 @StormHour @cloudymamma @BBCWthrWatchers @bbcweather… https://t.co/jgwD4okuNB', 'user': {'location': ''}}\n",
      "{'_id': ObjectId('67e3768d403e94bf2ce0942f'), 'text': 'It was 9c and pouring when we were in Santander in June......ho hum https://t.co/9elLeHAq0u', 'user': {'location': 'Scotland, United Kingdom'}}\n",
      "{'_id': ObjectId('67e3768d403e94bf2ce09430'), 'text': '@ruths_gallery @metoffice @bbcweather @SallyWeather @itvweather @SimonOKing @StormHour @ThePhotoHour Is it a bird..… https://t.co/vUJmMWVVYn', 'user': {'location': 'Belfast, Northern Ireland'}}\n",
      "{'_id': ObjectId('67e3768d403e94bf2ce09431'), 'text': '@AndiOram4 @MickeyJPrior @bbcweather Two decent articles on the MetO site...\\n\\nhttps://t.co/UX1nYOzn3p\\n\\n^ explains t… https://t.co/0zj1110yJo', 'user': {'location': 'Penzance, Cornwall '}}\n",
      "{'_id': ObjectId('67e3768d403e94bf2ce09432'), 'text': 'RT @bbcweather: We are two thirds of the way through meteorological winter and some UK locations, including Kirkwall (Orkney), Weybourne (N…', 'user': {'location': 'BBC Pacific Quay, Glasgow'}}\n",
      "{'_id': ObjectId('67e3768d403e94bf2ce09433'), 'text': '@every_station @ScotRail @AlexHynes @bbcweather I was there the other day 😊', 'user': {'location': 'UK'}}\n",
      "{'_id': ObjectId('67e3768d403e94bf2ce09434'), 'text': '@MickeyJPrior @bbcweather Well the ground temperature is recorded just above the ground I believe just above the su… https://t.co/n1M2ase24m', 'user': {'location': 'Penzance, Cornwall '}}\n",
      "{'_id': ObjectId('67e3768d403e94bf2ce09435'), 'text': '@StevePayne2018 @bbcweather Why? I thought it would be good? Thanks in advance for an explanation! 👍🏼', 'user': {'location': 'Dundee, Scotland'}}\n",
      "{'_id': ObjectId('67e3768d403e94bf2ce09436'), 'text': '@bbcweather Beautiful day to be had by everyone there then!', 'user': {'location': ''}}\n",
      "{'_id': ObjectId('67e3768d403e94bf2ce09437'), 'text': '@Official_WXUK @MickeyJPrior @bbcweather Is there anything good I can read up about frosts and forecasting them.', 'user': {'location': ''}}\n",
      "{'_id': ObjectId('67e3768d403e94bf2ce09438'), 'text': 'A touch of brightness on a dull grey #MondayAfternoon at #Twickenham @metoffice  @bbcweather  @SallyWeather… https://t.co/eLXwcRbRQ4', 'user': {'location': 'Twickenham, Greater London'}}\n",
      "{'_id': ObjectId('67e3768d403e94bf2ce09439'), 'text': '@every_station @ScotRail @AlexHynes @bbcweather Great photo.', 'user': {'location': 'Widnes'}}\n",
      "{'_id': ObjectId('67e3768d403e94bf2ce0943a'), 'text': '@bbcweather Southerly wind ya NERDS, its NOT climate change ffs', 'user': {'location': 'Ireland '}}\n",
      "{'_id': ObjectId('67e3768d403e94bf2ce0943b'), 'text': 'RT @every_station: The cloud formations just now at Gretna Green are amazing! 156507 on a Carlisle to Glasgow Central service. \\n\\n@ScotRail…', 'user': {'location': 'Edinburgh, Scotland'}}\n",
      "{'_id': ObjectId('67e3768d403e94bf2ce0943c'), 'text': 'Leg of Mutton Pond at Bushy Park #photooftheday  @theroyalparks @WildLondon @WWTLondon @StormHour @PhotoHour… https://t.co/pAhxZPkPRf', 'user': {'location': 'Twickenham, Greater London'}}\n",
      "{'_id': ObjectId('67e3768d403e94bf2ce0943d'), 'text': 'RT @frasergj: After a sunny start around #Stirling winds blowing rain clouds across (3/2) #WeatherWatcherGraham @BBCScotWeather @BBCAimsir…', 'user': {'location': 'Stirling, Scotland'}}\n",
      "{'_id': ObjectId('67e3768d403e94bf2ce0943e'), 'text': '@ruths_gallery @ThePhotoHour @metoffice @bbcweather @SallyWeather @itvweather @SimonOKing @StormHour Cool! 👍', 'user': {'location': 'México.'}}\n",
      "{'_id': ObjectId('67e3768d403e94bf2ce0943f'), 'text': '@bbcweather Incredible', 'user': {'location': ''}}\n",
      "{'_id': ObjectId('67e3768d403e94bf2ce09440'), 'text': 'RT @bbcweather: We are two thirds of the way through meteorological winter and some UK locations, including Kirkwall (Orkney), Weybourne (N…', 'user': {'location': ''}}\n",
      "{'_id': ObjectId('67e3768d403e94bf2ce09441'), 'text': 'RT @StiofanNutty: Extraordinary temperatures being recorded today across France &amp; Spain. Again highlighting the extent &amp;widespread nature o…', 'user': {'location': 'Ireland'}}\n",
      "{'_id': ObjectId('67e3768d403e94bf2ce09442'), 'text': 'RT @ruths_gallery: A touch of brightness on a dull grey #MondayAfternoon at #Twickenham @metoffice  @bbcweather  @SallyWeather @itvweather…', 'user': {'location': 'Worldwide'}}\n",
      "{'_id': ObjectId('67e3768d403e94bf2ce09443'), 'text': 'RT @simon_weather: Sunrise in Great Yarmouth @StormchaserUKEU @carlharlott @danholley @stormbell @Lowweather @TheSnowDreamer @iainG81 @MetR…', 'user': {'location': '日本'}}\n",
      "{'_id': ObjectId('67e3768d403e94bf2ce09444'), 'text': 'RT @every_station: The cloud formations just now at Gretna Green are amazing! 156507 on a Carlisle to Glasgow Central service. \\n\\n@ScotRail…', 'user': {'location': 'Glasgow'}}\n",
      "{'_id': ObjectId('67e3768d403e94bf2ce09445'), 'text': 'Sunshine, rain or snow. For me all of the enjoyment of the weather comes from how it feels. ☀️ 🌧 ❄️ https://t.co/fUOgmvCdlJ', 'user': {'location': 'Bristol ✈️ San Francisco'}}\n",
      "{'_id': ObjectId('67e3768d403e94bf2ce09446'), 'text': \"@bbcweather What's the difference between air and ground frost?\", 'user': {'location': ''}}\n",
      "{'_id': ObjectId('67e3768d403e94bf2ce09447'), 'text': \"@Dave91632231 @bbcweather It's winter. It's supposed to be cold. There are meant to be frosts. The absence of them… https://t.co/G1Jlpf5kr1\", 'user': {'location': 'Leicestershire'}}\n",
      "{'_id': ObjectId('67e3768d403e94bf2ce09448'), 'text': 'RT @bbcweather: We are two thirds of the way through meteorological winter and some UK locations, including Kirkwall (Orkney), Weybourne (N…', 'user': {'location': 'Banana Republic'}}\n",
      "{'_id': ObjectId('67e3768d403e94bf2ce09449'), 'text': 'RT @bbcweather: We are two thirds of the way through meteorological winter and some UK locations, including Kirkwall (Orkney), Weybourne (N…', 'user': {'location': 'Trinidad'}}\n",
      "{'_id': ObjectId('67e3768d403e94bf2ce0944a'), 'text': 'RT @bbcweather: We are two thirds of the way through meteorological winter and some UK locations, including Kirkwall (Orkney), Weybourne (N…', 'user': {'location': ''}}\n",
      "{'_id': ObjectId('67e3768d403e94bf2ce0944b'), 'text': 'RT @AbhaPaulina: Beautiful 1st of February on the shores of Loch Lomond #scotland #beautifulday #PictureOfTheDay @VisitScotland @bbcweather…', 'user': {'location': 'Texas'}}\n",
      "{'_id': ObjectId('67e3768d403e94bf2ce0944c'), 'text': 'RT @bbcweather: We are two thirds of the way through meteorological winter and some UK locations, including Kirkwall (Orkney), Weybourne (N…', 'user': {'location': '#DearneValley S.Yorkshire - UK'}}\n",
      "{'_id': ObjectId('67e3768d403e94bf2ce0944d'), 'text': 'RT @bbcweather: We are two thirds of the way through meteorological winter and some UK locations, including Kirkwall (Orkney), Weybourne (N…', 'user': {'location': 'Tameside, Greater Manchester'}}\n",
      "{'_id': ObjectId('67e3768d403e94bf2ce0944e'), 'text': 'RT @bbcweather: We are two thirds of the way through meteorological winter and some UK locations, including Kirkwall (Orkney), Weybourne (N…', 'user': {'location': ''}}\n",
      "{'_id': ObjectId('67e3768d403e94bf2ce0944f'), 'text': 'RT @bbcweather: We are two thirds of the way through meteorological winter and some UK locations, including Kirkwall (Orkney), Weybourne (N…', 'user': {'location': ''}}\n",
      "{'_id': ObjectId('67e3768d403e94bf2ce09450'), 'text': 'RT @bbcweather: We are two thirds of the way through meteorological winter and some UK locations, including Kirkwall (Orkney), Weybourne (N…', 'user': {'location': 'Cornwall, UK'}}\n",
      "{'_id': ObjectId('67e3768d403e94bf2ce09451'), 'text': 'thisisfine.jpg https://t.co/MGIQvFLKmB', 'user': {'location': ''}}\n",
      "{'_id': ObjectId('67e3768d403e94bf2ce09452'), 'text': '@every_station @ScotRail @AlexHynes @bbcweather I saw that train at Carsile about 30 minutes ago, I’m on an avanti… https://t.co/IJsjzTb25C', 'user': {'location': 'United Kingdom'}}\n",
      "{'_id': ObjectId('67e3768d403e94bf2ce09453'), 'text': 'RT @bbcweather: We are two thirds of the way through meteorological winter and some UK locations, including Kirkwall (Orkney), Weybourne (N…', 'user': {'location': 'UK'}}\n",
      "{'_id': ObjectId('67e3768d403e94bf2ce09454'), 'text': \"@Alex_Mulcrow93 @bbcweather Our flowers and trees have started too. Blossom already. It's not normal\", 'user': {'location': 'UK'}}\n",
      "{'_id': ObjectId('67e3768d403e94bf2ce09455'), 'text': 'RT @ultraleap: We spot an @ultraleap mid-air #haptic array! 👀🌦️', 'user': {'location': 'Bristol UK'}}\n",
      "{'_id': ObjectId('67e3768d403e94bf2ce09456'), 'text': 'RT @bbcweather: We are two thirds of the way through meteorological winter and some UK locations, including Kirkwall (Orkney), Weybourne (N…', 'user': {'location': 'Enfield, London'}}\n",
      "{'_id': ObjectId('67e3768d403e94bf2ce09457'), 'text': 'The cloud formations just now at Gretna Green are amazing! 156507 on a Carlisle to Glasgow Central service.… https://t.co/MILaurBXdM', 'user': {'location': 'United Kingdom'}}\n",
      "{'_id': ObjectId('67e3768d403e94bf2ce09458'), 'text': \"@bbcweather This isn't good news 🙁\", 'user': {'location': 'Leicestershire'}}\n",
      "{'_id': ObjectId('67e3768d403e94bf2ce09459'), 'text': 'We are two thirds of the way through meteorological winter and some UK locations, including Kirkwall (Orkney), Weyb… https://t.co/X7skB5rYxV', 'user': {'location': 'United Kingdom'}}\n",
      "{'_id': ObjectId('67e3768d403e94bf2ce0945a'), 'text': '.@bbcweather *Again* 1430  GMT @bbcworld news weather summary: presenter standing in front of satellite video for P… https://t.co/oXmRIxigH2', 'user': {'location': ''}}\n",
      "{'_id': ObjectId('67e3768d403e94bf2ce0945b'), 'text': '‘I’m watching you’.  A jackdaw on our balcony on a cloudy afternoon at #Twickenham @metoffice  @bbcweather… https://t.co/ygjqFDk1Gg', 'user': {'location': 'Twickenham, Greater London'}}\n",
      "{'_id': ObjectId('67e3768d403e94bf2ce0945c'), 'text': 'RT @ruths_gallery: ‘I’m watching you’.  A jackdaw on our balcony on a cloudy afternoon at #Twickenham @metoffice  @bbcweather  @SallyWeathe…', 'user': {'location': 'Worldwide'}}\n",
      "{'_id': ObjectId('67e3768d403e94bf2ce0945d'), 'text': \"@bbcweather Where are the 'I saw snow in winter so climate change isn't real' people\", 'user': {'location': 'Wessex'}}\n",
      "{'_id': ObjectId('67e3768d403e94bf2ce0945e'), 'text': '@festinagirl yep https://t.co/4s3yS1iPiS and as models predicted as we warm up we get more extremes, all the warmes… https://t.co/eXVbfB3Nlr', 'user': {'location': 'UK'}}\n",
      "{'_id': ObjectId('67e3768d403e94bf2ce0945f'), 'text': 'RT @GWestCBayCC: #Greenock #Gourock #Inverclyde #Scotland #WeatherAware https://t.co/ueMAxvkj4l', 'user': {'location': 'Greenock, Scotland'}}\n",
      "{'_id': ObjectId('67e3768d403e94bf2ce09460'), 'text': '@bbcweather Crazy. Please tell me that we will get some colder weather in kent? Every day is in double figures and… https://t.co/TkmYJ9joV9', 'user': {'location': 'Rochester, kent'}}\n",
      "{'_id': ObjectId('67e3768d403e94bf2ce09461'), 'text': 'RT @gazza_d: This is fine https://t.co/76CdECe4al', 'user': {'location': 'London'}}\n",
      "{'_id': ObjectId('67e3768d403e94bf2ce09462'), 'text': \"@Menkvi @bbcweather This isn't climate change just a plume of hot air which has been drawing hot air up for about a… https://t.co/lpwHdFe6Tw\", 'user': {'location': 'Dungeon Master '}}\n",
      "{'_id': ObjectId('67e3768d403e94bf2ce09463'), 'text': 'RT @simon_weather: Sunrise in Great Yarmouth @StormchaserUKEU @carlharlott @danholley @stormbell @Lowweather @TheSnowDreamer @iainG81 @MetR…', 'user': {'location': 'emel gurbeti'}}\n",
      "{'_id': ObjectId('67e3768d403e94bf2ce09464'), 'text': '@Silligilli @porridgebrain @cairnstoon @bbcweather', 'user': {'location': 'U.K'}}\n",
      "{'_id': ObjectId('67e3768d403e94bf2ce09465'), 'text': 'RT @gazza_d: This is fine https://t.co/76CdECe4al', 'user': {'location': 'On a bike, somewhere in the UK'}}\n",
      "{'_id': ObjectId('67e3768d403e94bf2ce09466'), 'text': '@YorkshireBird_ @porridgebrain @LevParikian @bbcweather', 'user': {'location': 'U.K'}}\n",
      "{'_id': ObjectId('67e3768d403e94bf2ce09467'), 'text': 'RT @simon_weather: Sunrise in Great Yarmouth @StormchaserUKEU @carlharlott @danholley @stormbell @Lowweather @TheSnowDreamer @iainG81 @MetR…', 'user': {'location': 'malmö'}}\n",
      "{'_id': ObjectId('67e3768d403e94bf2ce09468'), 'text': '@bbcweather @BBCWthrWatchers @BBCLookEast', 'user': {'location': 'Cambridgeshire'}}\n",
      "{'_id': ObjectId('67e3768d403e94bf2ce09469'), 'text': 'RT @AbhaPaulina: Beautiful 1st of February on the shores of Loch Lomond #scotland #beautifulday #PictureOfTheDay @VisitScotland @bbcweather…', 'user': {'location': 'España'}}\n",
      "{'_id': ObjectId('67e3768d403e94bf2ce0946a'), 'text': '@bbcweather 😱', 'user': {'location': 'The Witterings, Sussex'}}\n",
      "{'_id': ObjectId('67e3768d403e94bf2ce0946b'), 'text': 'RT @ultraleap: We spot an @ultraleap mid-air #haptic array! 👀🌦️', 'user': {'location': ''}}\n",
      "{'_id': ObjectId('67e3768d403e94bf2ce0946c'), 'text': 'RT @KimGPhoto: Stormy seas surrounding the Isle of Skye today 🌊\\n\\n@VisitScotland @bbcweather #isleofskye #Scotland #Weather #ScotlandIsNow h…', 'user': {'location': ''}}\n",
      "{'_id': ObjectId('67e3768d403e94bf2ce0946d'), 'text': 'RT @gazza_d: This is fine https://t.co/76CdECe4al', 'user': {'location': 'Scotland'}}\n",
      "{'_id': ObjectId('67e3768d403e94bf2ce0946e'), 'text': 'RT @frasergj: After a sunny start around #Stirling winds blowing rain clouds across (3/2) #WeatherWatcherGraham @BBCScotWeather @BBCAimsir…', 'user': {'location': 'The world'}}\n",
      "{'_id': ObjectId('67e3768d403e94bf2ce0946f'), 'text': 'RT @frasergj: After a sunny start around #Stirling winds blowing rain clouds across (3/2) #WeatherWatcherGraham @BBCScotWeather @BBCAimsir…', 'user': {'location': 'The Atmosphere'}}\n",
      "{'_id': ObjectId('67e3768d403e94bf2ce09470'), 'text': '@JeanneHoffa @theroyalparks @WildLondon @WWTLondon @StormHour @photohour @bbcweather @SimonOKing @SallyWeather @itvweather Thank you Jeanne', 'user': {'location': 'Twickenham, Greater London'}}\n",
      "{'_id': ObjectId('67e3768d403e94bf2ce09471'), 'text': 'After a sunny start around #Stirling winds blowing rain clouds across (3/2) #WeatherWatcherGraham @BBCScotWeather… https://t.co/tOtpDgqBXF', 'user': {'location': 'Stirling, Scotland'}}\n",
      "{'_id': ObjectId('67e3768d403e94bf2ce09472'), 'text': '@alannah213 @barrabest @WeatherCee @BBCNewsNI @BBCTravelShow @DiscoverNI @bbcweather Great sky ...', 'user': {'location': 'Bailiwick of Guernsey'}}\n",
      "{'_id': ObjectId('67e3768d403e94bf2ce09473'), 'text': \"@bbcweather We're more likely to see wetter summers in Scotland due to the jet stream not moving as far north as it… https://t.co/jQZP5ghcl3\", 'user': {'location': 'Dumfries'}}\n",
      "{'_id': ObjectId('67e3768d403e94bf2ce09474'), 'text': 'As of 1300 GMT, we have seen the following temperatures today in France and Spain:\\n\\nSeillans 26.8C\\nSantander airpor… https://t.co/feXKwJSRWT', 'user': {'location': 'United Kingdom'}}\n",
      "{'_id': ObjectId('67e3768d403e94bf2ce09475'), 'text': '@themetoffice @bbcweather just built a natural stone wall on the basis it was going to be dry today (as you guys sa… https://t.co/Mbcxf2IgJX', 'user': {'location': 'somerset'}}\n",
      "{'_id': ObjectId('67e3768d403e94bf2ce09476'), 'text': 'Our partners @ultraleap pioneered this haptic technology. Could it be the future of out weather forecasts? Great ex… https://t.co/TK5EHYIsVE', 'user': {'location': 'Bristol '}}\n",
      "{'_id': ObjectId('67e3768d403e94bf2ce09477'), 'text': 'Stormy seas surrounding the Isle of Skye today 🌊\\n\\n@VisitScotland @bbcweather #isleofskye #Scotland #Weather… https://t.co/dbsYA9rKTP', 'user': {'location': 'Scotland '}}\n",
      "{'_id': ObjectId('67e3768d403e94bf2ce09478'), 'text': 'This is fine https://t.co/76CdECe4al', 'user': {'location': 'UK'}}\n",
      "{'_id': ObjectId('67e3768d403e94bf2ce09479'), 'text': 'RT @ruths_gallery: It looks as if that jackdaw is making a contrail 😳🤣 Sunny spells are forecast for #Twickenham before a cloudy afternoon…', 'user': {'location': 'The world'}}\n",
      "{'_id': ObjectId('67e3768d403e94bf2ce0947a'), 'text': 'RT @bbcweather: Feeling the forecast through haptic technology. Could this be the future of BBC Weather?\\nhttps://t.co/u9w2K98EL7 https://t.…', 'user': {'location': 'Brooklyn, NY'}}\n",
      "{'_id': ObjectId('67e3768d403e94bf2ce0947b'), 'text': 'RT @simon_weather: Daffodils in Great Yarmouth @StormchaserUKEU @carlharlott @danholley @stormbell @Lowweather @TheSnowDreamer @iainG81 @Me…', 'user': {'location': 'Northamptonshire, UK'}}\n",
      "{'_id': ObjectId('67e3768d403e94bf2ce0947c'), 'text': 'RT @bbcweather: Feeling the forecast through haptic technology. Could this be the future of BBC Weather?\\nhttps://t.co/u9w2K98EL7 https://t.…', 'user': {'location': ''}}\n",
      "{'_id': ObjectId('67e3768d403e94bf2ce0947d'), 'text': 'RT @ultraleap: We spot an @ultraleap mid-air #haptic array! 👀🌦️ https://t.co/Nphu3hJVQa', 'user': {'location': 'UK'}}\n",
      "{'_id': ObjectId('67e3768d403e94bf2ce0947e'), 'text': '@goldfinches12 @metoffice @bbcweather @SallyWeather @itvweather @SimonOKing @StormHour @ThePhotoHour Thank you Mart… https://t.co/fDMppTyn9L', 'user': {'location': 'Twickenham, Greater London'}}\n",
      "{'_id': ObjectId('67e3768d403e94bf2ce0947f'), 'text': 'Early morning calm at Bushy Park #photooftheday  @theroyalparks @WildLondon @WWTLondon @StormHour @PhotoHour… https://t.co/WTwx3N1nAQ', 'user': {'location': 'Twickenham, Greater London'}}\n",
      "{'_id': ObjectId('67e3768d403e94bf2ce09480'), 'text': '@ruths_gallery @theroyalparks @WildLondon @WWTLondon @StormHour @photohour @bbcweather @SimonOKing @SallyWeather @itvweather Lovely. 😊', 'user': {'location': 'Fullerton, CA'}}\n",
      "{'_id': ObjectId('67e3768d403e94bf2ce09481'), 'text': 'Serbia (deep ties to Russia)👉 country with the highest rate of pollution-related deaths in Europe, according to the… https://t.co/esdpkPZbhY', 'user': {'location': 'NE OH'}}\n",
      "{'_id': ObjectId('67e3768d403e94bf2ce09482'), 'text': \"@ruths_gallery @metoffice @bbcweather @SallyWeather @itvweather @SimonOKing @StormHour @ThePhotoHour That's an amaz… https://t.co/4CfjDIwF44\", 'user': {'location': 'UK'}}\n",
      "{'_id': ObjectId('67e3768d403e94bf2ce09483'), 'text': 'RT @ruths_gallery: It looks as if that jackdaw is making a contrail 😳🤣 Sunny spells are forecast for #Twickenham before a cloudy afternoon…', 'user': {'location': 'UK'}}\n",
      "{'_id': ObjectId('67e3768d403e94bf2ce09484'), 'text': 'Milan car ban: Drivers ignore anti-pollution measure https://t.co/6BtAMWNfLP', 'user': {'location': 'United Kingdom'}}\n",
      "{'_id': ObjectId('67e3768d403e94bf2ce09485'), 'text': 'RT @ruths_gallery: It looks as if that jackdaw is making a contrail 😳🤣 Sunny spells are forecast for #Twickenham before a cloudy afternoon…', 'user': {'location': ''}}\n",
      "{'_id': ObjectId('67e3768d403e94bf2ce09486'), 'text': 'RT @ruths_gallery: Awesome mackerel clouds just now over #Twickenham  @metoffice  @bbcweather #MondayMorning @SallyWeather @itvweather @Clo…', 'user': {'location': 'Worldwide'}}\n",
      "{'_id': ObjectId('67e3768d403e94bf2ce09487'), 'text': 'RT @GeordieCanary: Has spring arrived ? @ChrisPage90 @WeatherAisling @BBCWthrWatchers @bbcweather @StormHour @LensAreLive https://t.co/laSb…', 'user': {'location': ''}}\n",
      "{'_id': ObjectId('67e3768d403e94bf2ce09488'), 'text': 'We spot an @ultraleap mid-air #haptic array! 👀🌦️ https://t.co/Nphu3hJVQa', 'user': {'location': 'Global'}}\n",
      "{'_id': ObjectId('67e3768d403e94bf2ce09489'), 'text': 'RT @GeordieCanary: Has spring arrived ? @ChrisPage90 @WeatherAisling @BBCWthrWatchers @bbcweather @StormHour @LensAreLive https://t.co/laSb…', 'user': {'location': ''}}\n",
      "{'_id': ObjectId('67e3768d403e94bf2ce0948a'), 'text': 'RT @ruths_gallery: Awesome mackerel clouds just now over #Twickenham  @metoffice  @bbcweather #MondayMorning @SallyWeather @itvweather @Clo…', 'user': {'location': 'The world'}}\n",
      "{'_id': ObjectId('67e3768d403e94bf2ce0948b'), 'text': 'RT @dunbar44: A stunning Rainbow over the Giants Causeway \\n\\n@GCausewayNT @nationaltrust @NationalTrustNI @newslineweather @barrabest @Disco…', 'user': {'location': 'Newtownabbey'}}\n",
      "{'_id': ObjectId('67e3768d403e94bf2ce0948c'), 'text': '@GeordieCanary @StormHour @ChrisPage90 @WeatherAisling @BBCWthrWatchers @bbcweather @LensAreLive Oh yes 😎 https://t.co/QA6TsrZKzQ', 'user': {'location': ''}}\n",
      "{'_id': ObjectId('67e3768d403e94bf2ce0948d'), 'text': '@bbcweather https://t.co/QGpJ97PHQQ', 'user': {'location': ''}}\n",
      "{'_id': ObjectId('67e3768d403e94bf2ce0948e'), 'text': 'RT @ruths_gallery: Awesome mackerel clouds just now over #Twickenham  @metoffice  @bbcweather #MondayMorning @SallyWeather @itvweather @Clo…', 'user': {'location': 'Adelaide, South Australia'}}\n",
      "{'_id': ObjectId('67e3768d403e94bf2ce0948f'), 'text': 'RT @ultraleap: We spot an @ultraleap mid-air #haptic array! 👀🌦️ https://t.co/Nphu3hJVQa', 'user': {'location': 'みんな東京と思っているけど札幌（寒いので出たい）'}}\n",
      "{'_id': ObjectId('67e3768d403e94bf2ce09490'), 'text': \"Cycling through Europe's deadliest air https://t.co/1gL5BK6HMt\", 'user': {'location': 'United Kingdom'}}\n",
      "{'_id': ObjectId('67e3768d403e94bf2ce09491'), 'text': '@BBCBreakfast @bbcweather ‘in the north of the country’ - repeat after me UK / Britain is not a country - UK / Brit… https://t.co/51KeFQLgkm', 'user': {'location': ''}}\n",
      "{'_id': ObjectId('67e3768d403e94bf2ce09492'), 'text': 'RT ultraleap \"We spot an ultraleap mid-air #haptic array! 👀🌦️ https://t.co/ribK44J5Gj\"', 'user': {'location': 'Bristol UK'}}\n",
      "{'_id': ObjectId('67e3768d403e94bf2ce09493'), 'text': 'RT @ruths_gallery: Awesome mackerel clouds just now over #Twickenham  @metoffice  @bbcweather #MondayMorning @SallyWeather @itvweather @Clo…', 'user': {'location': 'The Atmosphere'}}\n",
      "{'_id': ObjectId('67e3768d403e94bf2ce09494'), 'text': 'RT @GeordieCanary: Has spring arrived ? @ChrisPage90 @WeatherAisling @BBCWthrWatchers @bbcweather @StormHour @LensAreLive https://t.co/laSb…', 'user': {'location': ''}}\n",
      "{'_id': ObjectId('67e3768d403e94bf2ce09495'), 'text': '@Omi_233 @bbcweather What BBC propaganda?', 'user': {'location': 'UK'}}\n",
      "{'_id': ObjectId('67e3768d403e94bf2ce09496'), 'text': '@bbcweather Yeah right...I call bullshit!!', 'user': {'location': 'UK'}}\n",
      "{'_id': ObjectId('67e3768d403e94bf2ce09497'), 'text': 'RT @ruths_gallery: Awesome mackerel clouds just now over #Twickenham  @metoffice  @bbcweather #MondayMorning @SallyWeather @itvweather @Clo…', 'user': {'location': 'defensar la república !'}}\n",
      "{'_id': ObjectId('67e3768d403e94bf2ce09498'), 'text': '@simon_weather @StormchaserUKEU @carlharlott @DanHolley @stormbell @Lowweather @TheSnowDreamer @iainG81 @MetRyan96… https://t.co/4q2oqgcDTC', 'user': {'location': 'Dungeon Master '}}\n",
      "{'_id': ObjectId('67e3768d403e94bf2ce09499'), 'text': 'RT @GeordieCanary: Has spring arrived ? @ChrisPage90 @WeatherAisling @BBCWthrWatchers @bbcweather @StormHour @LensAreLive https://t.co/laSb…', 'user': {'location': 'The Atmosphere'}}\n",
      "{'_id': ObjectId('67e3768d403e94bf2ce0949a'), 'text': 'Daffodils in Great Yarmouth @StormchaserUKEU @carlharlott @danholley @stormbell @Lowweather @TheSnowDreamer… https://t.co/CZsW5g6Yyt', 'user': {'location': ''}}\n",
      "{'_id': ObjectId('67e3768d403e94bf2ce0949b'), 'text': '@bbcweather Hope not, we need to fight back against this.', 'user': {'location': ''}}\n",
      "{'_id': ObjectId('67e3768d403e94bf2ce0949c'), 'text': 'RT @bbcweather: A day of #summer extremes in New Zealand on Sunday.\\n\\nWhilst Napier, on North Island, experienced its #hottestdayonrecord at…', 'user': {'location': 'LONDON/NYC'}}\n",
      "{'_id': ObjectId('67e3768d403e94bf2ce0949d'), 'text': 'RT @dunbar44: A stunning Rainbow over the Giants Causeway \\n\\n@GCausewayNT @nationaltrust @NationalTrustNI @newslineweather @barrabest @Disco…', 'user': {'location': 'Belfast'}}\n",
      "{'_id': ObjectId('67e3768d403e94bf2ce0949e'), 'text': \"@JudePri14876016 @bbcweather You'll either drown or starve to death if we get to that point.\", 'user': {'location': ''}}\n",
      "{'_id': ObjectId('67e3768d403e94bf2ce0949f'), 'text': '@bbcweather Nothing new here, more climate propaganda and hysteria from the BBC. The license fee really must go and… https://t.co/gdIroLIRwx', 'user': {'location': 'UK'}}\n",
      "{'_id': ObjectId('67e3768d403e94bf2ce094a0'), 'text': 'It looks as if that jackdaw is making a contrail 😳🤣 Sunny spells are forecast for #Twickenham before a cloudy after… https://t.co/YrwBR88OX5', 'user': {'location': 'Twickenham, Greater London'}}\n",
      "{'_id': ObjectId('67e3768d403e94bf2ce094a1'), 'text': 'RT @JaneDryden4: I warned this would happen. @metoffice uses extremely high sensitivity HadGEM3-GA6 model, combined with recently debunked…', 'user': {'location': 'uk'}}\n",
      "{'_id': ObjectId('67e3768d403e94bf2ce094a2'), 'text': 'RT @simon_weather: Daffodils in Great Yarmouth @StormchaserUKEU @carlharlott @danholley @stormbell @Lowweather @TheSnowDreamer @iainG81 @Me…', 'user': {'location': 'UK'}}\n",
      "{'_id': ObjectId('67e3768d403e94bf2ce094a3'), 'text': 'Does anyone else think it is rather fitting that the UK national anthem contains a pessimistic #weather forecast at… https://t.co/X9x7qo7aZs', 'user': {'location': 'UK'}}\n",
      "{'_id': ObjectId('67e3768d403e94bf2ce094a4'), 'text': '@1PaulMichael @VisitScotland @bbcweather @BBCScotland I must say it took me over a minute to register that it’s Ben… https://t.co/Z18sbi9nLZ', 'user': {'location': 'Glasgow'}}\n",
      "{'_id': ObjectId('67e3768d403e94bf2ce094a5'), 'text': 'RT @ruths_gallery: Awesome mackerel clouds just now over #Twickenham  @metoffice  @bbcweather #MondayMorning @SallyWeather @itvweather @Clo…', 'user': {'location': 'Strawberry Hill, Twickenham,UK'}}\n",
      "{'_id': ObjectId('67e3768d403e94bf2ce094a6'), 'text': 'Awesome mackerel clouds just now over #Twickenham  @metoffice  @bbcweather #MondayMorning @SallyWeather @itvweather… https://t.co/eOZy9je83R', 'user': {'location': 'Twickenham, Greater London'}}\n",
      "{'_id': ObjectId('67e3768d403e94bf2ce094a7'), 'text': 'I warned this would happen. @metoffice uses extremely high sensitivity HadGEM3-GA6 model, combined with recently de… https://t.co/kHK47JCiPY', 'user': {'location': ''}}\n",
      "{'_id': ObjectId('67e3768d403e94bf2ce094a8'), 'text': '@bbcweather Perhaps dry hot summers could become the norm in Scotland', 'user': {'location': ''}}\n",
      "{'_id': ObjectId('67e3768d403e94bf2ce094a9'), 'text': '@bbcweather Yep, with #WeatherModification....', 'user': {'location': 'Ireland '}}\n",
      "{'_id': ObjectId('67e3768d403e94bf2ce094aa'), 'text': 'RT @bbcweather: A bright, mild and windy day. Showers in the northwest, some rain developing in southern England. Winds strengthen with gus…', 'user': {'location': ''}}\n",
      "{'_id': ObjectId('67e3768d403e94bf2ce094ab'), 'text': 'RT @simon_weather: Sunrise in Great Yarmouth @StormchaserUKEU @carlharlott @danholley @stormbell @Lowweather @TheSnowDreamer @iainG81 @MetR…', 'user': {'location': ''}}\n",
      "{'_id': ObjectId('67e3768d403e94bf2ce094ac'), 'text': 'RT @dunbar44: A stunning Rainbow over the Giants Causeway \\n\\n@GCausewayNT @nationaltrust @NationalTrustNI @newslineweather @barrabest @Disco…', 'user': {'location': 'Belfast, Northern Ireland'}}\n",
      "{'_id': ObjectId('67e3768d403e94bf2ce094ad'), 'text': 'RT @ruths_gallery: It looks as if that jackdaw is making a contrail 😳🤣 Sunny spells are forecast for #Twickenham before a cloudy afternoon…', 'user': {'location': ''}}\n",
      "{'_id': ObjectId('67e3768d403e94bf2ce094ae'), 'text': '@AbhaPaulina @VisitScotland @bbcweather @BBCScotland Gorgeous scenes on Saturday 😍', 'user': {'location': 'Loch Lomond'}}\n",
      "{'_id': ObjectId('67e3768d403e94bf2ce094af'), 'text': 'RT @ruths_gallery: Awesome mackerel clouds just now over #Twickenham  @metoffice  @bbcweather #MondayMorning @SallyWeather @itvweather @Clo…', 'user': {'location': ''}}\n",
      "{'_id': ObjectId('67e3768d403e94bf2ce094b0'), 'text': 'RT @ruths_gallery: It looks as if that jackdaw is making a contrail 😳🤣 Sunny spells are forecast for #Twickenham before a cloudy afternoon…', 'user': {'location': 'Worldwide'}}\n",
      "{'_id': ObjectId('67e3768d403e94bf2ce094b1'), 'text': 'Has spring arrived ? @ChrisPage90 @WeatherAisling @BBCWthrWatchers @bbcweather @StormHour @LensAreLive https://t.co/laSbcPcfWU', 'user': {'location': 'Norwich, Norfolk, UK'}}\n",
      "{'_id': ObjectId('67e3768d403e94bf2ce094b2'), 'text': 'Take care on the roads in Scotland today. https://t.co/0sCqsmZysI', 'user': {'location': 'United King'}}\n",
      "{'_id': ObjectId('67e3768d403e94bf2ce094b3'), 'text': 'RT @simon_weather: Sunrise in Great Yarmouth @StormchaserUKEU @carlharlott @danholley @stormbell @Lowweather @TheSnowDreamer @iainG81 @MetR…', 'user': {'location': 'UK'}}\n",
      "{'_id': ObjectId('67e3768d403e94bf2ce094b4'), 'text': \"@bbcweather Good let's make 25c the average\", 'user': {'location': 'Dungeon Master '}}\n",
      "{'_id': ObjectId('67e3768d403e94bf2ce094b5'), 'text': 'RT @Iceman26061: Lovely pink clouds from yesterday🌅☁️ #clouds #sunset #weather #photography #Northamptonshire #loveukweather @LensAreLive @…', 'user': {'location': 'World!!!'}}\n",
      "{'_id': ObjectId('67e3768d403e94bf2ce094b6'), 'text': '@AbhaPaulina @VisitScotland @bbcweather @BBCScotland At this time of year the Ben would often be capped in snow. Beautiful sight.', 'user': {'location': ''}}\n",
      "{'_id': ObjectId('67e3768d403e94bf2ce094b7'), 'text': \"Dry, hot summers could become 'norm' in Scotland https://t.co/8xgEL0uyYV\", 'user': {'location': 'United Kingdom'}}\n",
      "{'_id': ObjectId('67e3768d403e94bf2ce094b8'), 'text': 'Porthleven 2014 the year the inner harbour baulks were smashed apart and lots of boats sunk/damaged… https://t.co/O14qq5QACO', 'user': {'location': 'Helston, Cornwall'}}\n",
      "{'_id': ObjectId('67e3768d403e94bf2ce094b9'), 'text': 'RT @therileyshot: Some nice colours this morning whilst I have my morning breakfast battle with the little munchkin! Have a fab week everyo…', 'user': {'location': 'Plauen, Deutschland'}}\n",
      "{'_id': ObjectId('67e3768d403e94bf2ce094ba'), 'text': 'RT @therileyshot: Some nice colours this morning whilst I have my morning breakfast battle with the little munchkin! Have a fab week everyo…', 'user': {'location': ''}}\n",
      "{'_id': ObjectId('67e3768d403e94bf2ce094bb'), 'text': 'RT @simon_weather: Sunrise in Great Yarmouth @StormchaserUKEU @carlharlott @danholley @stormbell @Lowweather @TheSnowDreamer @iainG81 @MetR…', 'user': {'location': 'Wherever my ❤️🐺🐅 leads me!'}}\n",
      "{'_id': ObjectId('67e3768d403e94bf2ce094bc'), 'text': 'Sunrise in Great Yarmouth @StormchaserUKEU @carlharlott @danholley @stormbell @Lowweather @TheSnowDreamer @iainG81… https://t.co/RNatAcYBDn', 'user': {'location': ''}}\n",
      "{'_id': ObjectId('67e3768d403e94bf2ce094bd'), 'text': 'This IS not normal #10 https://t.co/vRyhmr4PbV', 'user': {'location': 'UK'}}\n",
      "{'_id': ObjectId('67e3768d403e94bf2ce094be'), 'text': 'RT @simon_weather: Sunrise in Great Yarmouth @StormchaserUKEU @carlharlott @danholley @stormbell @Lowweather @TheSnowDreamer @iainG81 @MetR…', 'user': {'location': 'UK'}}\n",
      "{'_id': ObjectId('67e3768d403e94bf2ce094bf'), 'text': 'RT @absolutoursuk: #Mevagissey meanders on a #winter afternoon.#fishinglife @ILoveCornwallUK @VisitSWEngland @WhatsonSW @cornwallfilming @C…', 'user': {'location': 'UK'}}\n",
      "{'_id': ObjectId('67e3768d403e94bf2ce094c0'), 'text': 'RT @MetMattTaylor: More local heat records tumbled in north on Monday\\n\\nMeanwhile, Milford Sound recorded almost 500mm (over a months worth…', 'user': {'location': 'UK'}}\n",
      "{'_id': ObjectId('67e3768d403e94bf2ce094c1'), 'text': '@BBCWthrWatchers @bbcweather @carolkirkwood @Hudsonweather @Abbiedew @KeeleyDonovan @katerinaweather @lottyleeming… https://t.co/I5bZjX7Dh8', 'user': {'location': 'UK'}}\n",
      "{'_id': ObjectId('67e3768d403e94bf2ce094c2'), 'text': 'More local heat records tumbled in north on Monday\\n\\nMeanwhile, Milford Sound recorded almost 500mm (over a months w… https://t.co/Wur18q1ruY', 'user': {'location': 'Broadcasting House, London'}}\n",
      "{'_id': ObjectId('67e3768d403e94bf2ce094c3'), 'text': '@therileyshot @BBCLookNorth @bbcweather @itvweather @LensAreLive @Liam_Ball92 @Welcome2Yorks Lovely photograph', 'user': {'location': 'Wimbledon  #RespectYourPolice'}}\n",
      "{'_id': ObjectId('67e3768d403e94bf2ce094c4'), 'text': 'RT @bbcweather: A bright, mild and windy day. Showers in the northwest, some rain developing in southern England. Winds strengthen with gus…', 'user': {'location': 'London, UK'}}\n",
      "{'_id': ObjectId('67e3768d403e94bf2ce094c5'), 'text': 'RT @dunbar44: A stunning Rainbow over the Giants Causeway \\n\\n@GCausewayNT @nationaltrust @NationalTrustNI @newslineweather @barrabest @Disco…', 'user': {'location': 'Scotland, United Kingdom'}}\n",
      "{'_id': ObjectId('67e3768d403e94bf2ce094c6'), 'text': 'RT @bbcweather: A bright, mild and windy day. Showers in the northwest, some rain developing in southern England. Winds strengthen with gus…', 'user': {'location': 'UK'}}\n",
      "{'_id': ObjectId('67e3768d403e94bf2ce094c7'), 'text': '@1PaulMichael @VisitScotland @bbcweather @BBCScotland Indeed my friend , was by chance driving by and couldn’t resist', 'user': {'location': 'Glasgow'}}\n",
      "{'_id': ObjectId('67e3768d403e94bf2ce094c8'), 'text': 'Monday morning setting. @BBCNWT @bbcweather #Boothstown #Manchester #sunrise #sunrisephotography #colours https://t.co/M1Z6Zv5dHz', 'user': {'location': 'Manchester,UK'}}\n",
      "{'_id': ObjectId('67e3768d403e94bf2ce094c9'), 'text': 'RT @bbcweather: A bright, mild and windy day. Showers in the northwest, some rain developing in southern England. Winds strengthen with gus…', 'user': {'location': 'UK'}}\n",
      "{'_id': ObjectId('67e3768d403e94bf2ce094ca'), 'text': 'Some nice colours this morning whilst I have my morning breakfast battle with the little munchkin! Have a fab week… https://t.co/qnCajuANja', 'user': {'location': 'UK'}}\n",
      "{'_id': ObjectId('67e3768d403e94bf2ce094cb'), 'text': 'RT @bbcweather: A bright, mild and windy day. Showers in the northwest, some rain developing in southern England. Winds strengthen with gus…', 'user': {'location': ''}}\n",
      "{'_id': ObjectId('67e3768d403e94bf2ce094cc'), 'text': 'RT @bbcweather: Gales across Scotland later tomorrow. Gusts of 60-70mph for northern &amp; western Scotland and up to 80mph for the Western Isl…', 'user': {'location': 'Wellington City, New Zealand'}}\n",
      "{'_id': ObjectId('67e3768d403e94bf2ce094cd'), 'text': 'RT @bbcweather: A bright, mild and windy day. Showers in the northwest, some rain developing in southern England. Winds strengthen with gus…', 'user': {'location': 'UK'}}\n",
      "{'_id': ObjectId('67e3768d403e94bf2ce094ce'), 'text': 'RT @bbcweather: A bright, mild and windy day. Showers in the northwest, some rain developing in southern England. Winds strengthen with gus…', 'user': {'location': 'UK'}}\n",
      "{'_id': ObjectId('67e3768d403e94bf2ce094cf'), 'text': 'RT @bbcweather: Gales across Scotland later tomorrow. Gusts of 60-70mph for northern &amp; western Scotland and up to 80mph for the Western Isl…', 'user': {'location': 'Inverness'}}\n",
      "{'_id': ObjectId('67e3768d403e94bf2ce094d0'), 'text': 'A bright, mild and windy day. Showers in the northwest, some rain developing in southern England. Winds strengthen… https://t.co/IByZz4C5te', 'user': {'location': 'United Kingdom'}}\n",
      "{'_id': ObjectId('67e3768d403e94bf2ce094d1'), 'text': 'RT @dunbar44: A stunning Rainbow over the Giants Causeway \\n\\n@GCausewayNT @nationaltrust @NationalTrustNI @newslineweather @barrabest @Disco…', 'user': {'location': 'Belfast, Northern Ireland'}}\n",
      "{'_id': ObjectId('67e3768d403e94bf2ce094d2'), 'text': 'RT @AbhaPaulina: Beautiful 1st of February on the shores of Loch Lomond #scotland #beautifulday #PictureOfTheDay @VisitScotland @bbcweather…', 'user': {'location': 'Sedona, AZ'}}\n"
     ]
    }
   ],
   "source": [
    "# Check that the new collection exists with the required data:\n",
    "# db.newWeather.find().pretty()\n",
    "# Create a variable called newcol to hold the new collection\n",
    "projcol = mydb[\"projWeather\"]\n",
    "newData = (projcol.find({}))\n",
    "printTweets(newData)"
   ]
  },
  {
   "cell_type": "code",
   "execution_count": 89,
   "id": "1a328a8f-2bb5-45b2-8fa1-3b6a75dbc4fe",
   "metadata": {},
   "outputs": [
    {
     "data": {
      "text/plain": [
       "<pymongo.synchronous.command_cursor.CommandCursor at 0x2565930bd40>"
      ]
     },
     "execution_count": 89,
     "metadata": {},
     "output_type": "execute_result"
    }
   ],
   "source": [
    "\"\"\"db.projWeather.aggregate([\n",
    "{$limit: 50},\n",
    "{$out:\"newWeather\"} ])\n",
    "\"\"\"\n",
    "# Syntax difference: the various parameters must be in quotes\n",
    "projcol.aggregate([\n",
    "{'$limit': 50},\n",
    "{'$out':\"newWeather\"} ])"
   ]
  },
  {
   "cell_type": "code",
   "execution_count": 90,
   "id": "1f51f9a5-e597-48c3-912a-6a1584b22c0a",
   "metadata": {},
   "outputs": [
    {
     "name": "stdout",
     "output_type": "stream",
     "text": [
      "50\n",
      "250\n"
     ]
    }
   ],
   "source": [
    "# Check that the new collection exists with the required data:\n",
    "# db.newWeather.count()\n",
    "# Create a variable called newcol to hold the new collection\n",
    "newcol = mydb[\"newWeather\"]\n",
    "print (newcol.count_documents({}))\n",
    "#Compared to projWeather:\n",
    "print (projcol.count_documents({}))"
   ]
  },
  {
   "cell_type": "code",
   "execution_count": 91,
   "id": "19f70ff4-8396-4aff-8686-504a7a3907ca",
   "metadata": {},
   "outputs": [
    {
     "name": "stdout",
     "output_type": "stream",
     "text": [
      "\n",
      "Top 10 hashtags :\n",
      "----------------\n",
      "#python - 3\n",
      "#coding - 1\n",
      "#adventure - 1\n",
      "#nature - 1\n",
      "#movies - 1\n",
      "#cinema - 1\n",
      "#programming - 1\n",
      "#ml - 1\n",
      "\n",
      "Top 10 mentions :\n",
      "----------------\n",
      "@john - 2\n",
      "@jane - 2\n"
     ]
    }
   ],
   "source": [
    "import operator\n",
    "\n",
    "# Function to print the top features (hashtags or mentions)\n",
    "def print_features(feature_set, feature_type):\n",
    "    print('\\nTop 10', feature_type, ':')\n",
    "    print('----------------')\n",
    "    for item in feature_set:\n",
    "        print(item[0], '-', str(item[1]))\n",
    "\n",
    "# Function to count hashtags and mentions in tweets\n",
    "def count_features(tweets):\n",
    "    tag_dict = {}\n",
    "    mention_dict = {}\n",
    "    \n",
    "    # Iterate over each tweet\n",
    "    for tweet in tweets:\n",
    "        tweet_text = str(tweet)  # Convert tweet to string for processing\n",
    "        tweet = tweet_text.lower()  # Make everything lowercase for consistency\n",
    "        tweet_tokenized = tweet.split()  # Tokenize the tweet into words\n",
    "        \n",
    "        for word in tweet_tokenized:\n",
    "            # Check for hashtags and update the tag dictionary\n",
    "            if word.startswith('#') and len(word) > 1:\n",
    "                key = word.translate(str.maketrans(\"\", \"\"))  # Remove punctuation\n",
    "                if key in tag_dict:\n",
    "                    tag_dict[key] += 1\n",
    "                else:\n",
    "                    tag_dict[key] = 1\n",
    "\n",
    "            # Check for mentions and update the mention dictionary\n",
    "            if word.startswith('@') and len(word) > 1:\n",
    "                key = word.translate(str.maketrans(\"\", \"\"))  # Remove punctuation\n",
    "                if key in mention_dict:\n",
    "                    mention_dict[key] += 1\n",
    "                else:\n",
    "                    mention_dict[key] = 1\n",
    "\n",
    "    # Sort hashtags by count in descending order and get top 10\n",
    "    top_tags = dict(sorted(tag_dict.items(), key=operator.itemgetter(1), reverse=True)[:10])\n",
    "    top_tags_sorted = sorted(top_tags.items(), key=lambda x: x[1], reverse=True)\n",
    "    print_features(top_tags_sorted, 'hashtags')\n",
    "\n",
    "    # Sort mentions by count in descending order and get top 10\n",
    "    top_mentions = dict(sorted(mention_dict.items(), key=operator.itemgetter(1), reverse=True)[:10])\n",
    "    top_mentions_sorted = sorted(top_mentions.items(), key=lambda x: x[1], reverse=True)\n",
    "    print_features(top_mentions_sorted, 'mentions')\n",
    "\n",
    "# Example usage:\n",
    "tweets = [\n",
    "    \"@john I love programming #Python #coding\",\n",
    "    \"@jane Let's go hiking #adventure #nature\",\n",
    "    \"Love this movie #movies #cinema\",\n",
    "    \"#Python is awesome #programming @john\",\n",
    "    \"@jane #Python is great for data science #ML\"\n",
    "]\n",
    "\n",
    "count_features(tweets)\n"
   ]
  },
  {
   "cell_type": "code",
   "execution_count": 92,
   "id": "1706472c-3dd7-40ca-93ba-3ad2faa8fb00",
   "metadata": {},
   "outputs": [
    {
     "name": "stdout",
     "output_type": "stream",
     "text": [
      "\n",
      "Top 10 hashtags :\n",
      "----------------\n",
      "#stirling - 5\n",
      "#weatherwatcherg…'} - 3\n",
      "#weatherwatchergraham - 2\n",
      "\n",
      "Top 10 mentions :\n",
      "----------------\n",
      "@frasergj: - 5\n",
      "@stiruni - 3\n",
      "@bbcscotweather - 2\n",
      "@bbcaimsir…'} - 2\n"
     ]
    }
   ],
   "source": [
    "# Find the top 10 hastags and mentions for tweets that include sun\n",
    "# Use the new collection: newcol\n",
    "tweet_df = newcol.find({'text':{'$regex':'sun'}}, {'text':1})\n",
    "count_features(tweet_df)"
   ]
  },
  {
   "cell_type": "code",
   "execution_count": null,
   "id": "12872ee2-6b29-4865-95f7-effd614430a7",
   "metadata": {},
   "outputs": [],
   "source": []
  }
 ],
 "metadata": {
  "kernelspec": {
   "display_name": "Python 3 (ipykernel)",
   "language": "python",
   "name": "python3"
  },
  "language_info": {
   "codemirror_mode": {
    "name": "ipython",
    "version": 3
   },
   "file_extension": ".py",
   "mimetype": "text/x-python",
   "name": "python",
   "nbconvert_exporter": "python",
   "pygments_lexer": "ipython3",
   "version": "3.12.6"
  }
 },
 "nbformat": 4,
 "nbformat_minor": 5
}
